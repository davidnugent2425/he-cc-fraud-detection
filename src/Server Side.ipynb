{
 "cells": [
  {
   "cell_type": "code",
   "execution_count": 1,
   "id": "eedb1242",
   "metadata": {},
   "outputs": [],
   "source": [
    "import warnings\n",
    "warnings.filterwarnings('ignore')"
   ]
  },
  {
   "cell_type": "markdown",
   "id": "1bffb127",
   "metadata": {},
   "source": [
    "# Server Side\n",
    "\n",
    "* Train models\n",
    "* Host server for encrypted inference"
   ]
  },
  {
   "cell_type": "markdown",
   "id": "c7c79aeb",
   "metadata": {},
   "source": [
    "## Train XGBoost on ULB dataset"
   ]
  },
  {
   "cell_type": "code",
   "execution_count": 3,
   "id": "932e2351",
   "metadata": {
    "scrolled": false
   },
   "outputs": [
    {
     "name": "stdout",
     "output_type": "stream",
     "text": [
      "Loading ulb dataset...\n",
      "\n",
      "ulb: 284807 total values, num fraudulant: 492\n",
      "training set: 2554 total values, num fraudulant: 368\n",
      "valid set: 42721 total values, num fraudulant: 49\n",
      "test set: 56962 total values, num fraudulant: 75\n",
      "\n",
      "Training XGBoost model...\n",
      "Time taken to train model: 0 mins, 0 seconds, 438 ms\n",
      "Encrypting model...\n",
      "Time taken to encrypt model: 0 mins, 32 seconds, 989 ms\n",
      "\n",
      "Testing encrypted model...\n",
      "Making plaintext predictions.\n",
      "Plaintext predictions: [1. 1. 1. 1. 1. 1. 1. 0. 1. 1. 1. 1. 1. 0. 1. 1. 1. 1. 0. 1. 0. 0. 1. 0.\n",
      " 1. 1. 1. 0. 1. 1. 0. 1. 1. 1. 1. 1. 0. 1. 1. 1. 0. 1. 1. 1. 1. 1. 1. 0.\n",
      " 1. 0. 1. 1. 1. 1. 1. 1. 1. 1. 1. 1. 1. 0. 1. 1. 1. 1. 0. 1. 1. 1. 1. 1.\n",
      " 1. 1. 1.]\n",
      "Encrypting inputs.\n",
      "Making encrypted predictions.\n",
      "Decrypting results.\n",
      "Decrypted predictions: [1. 1. 1. 1. 1. 1. 1. 0. 1. 1. 1. 1. 1. 0. 1. 1. 1. 1. 0. 1. 0. 0. 1. 0.\n",
      " 1. 1. 1. 0. 1. 1. 0. 1. 1. 1. 1. 1. 0. 1. 1. 1. 0. 1. 1. 1. 1. 1. 1. 0.\n",
      " 1. 0. 1. 1. 1. 1. 1. 1. 1. 1. 1. 1. 1. 0. 1. 1. 1. 1. 0. 1. 1. 1. 1. 1.\n",
      " 1. 1. 1.]\n",
      "Success!\n",
      "Time taken for testing: 0 mins, 6 seconds, 571 ms\n",
      "\n",
      "Test results:\n",
      "Average precision: 0.7842610152661453\n",
      "AUC ROC score: 0.9822316756611059\n",
      "Accuracy score: 0.997471998876444\n",
      "              precision    recall  f1-score   support\n",
      "\n",
      "           0       1.00      1.00      1.00     56887\n",
      "           1       0.32      0.81      0.46        75\n",
      "\n",
      "    accuracy                           1.00     56962\n",
      "   macro avg       0.66      0.91      0.73     56962\n",
      "weighted avg       1.00      1.00      1.00     56962\n",
      "\n",
      "\n",
      "Saving plaintext xgboost model at ./server-files/ulb-xgboost.pt\n"
     ]
    },
    {
     "data": {
      "image/png": "[encoded data removed]",
      "text/plain": [
       "<Figure size 360x360 with 2 Axes>"
      ]
     },
     "metadata": {
      "needs_background": "light"
     },
     "output_type": "display_data"
    }
   ],
   "source": [
    "%run train_xgb.py --cores=8 --dataset=ulb"
   ]
  },
  {
   "cell_type": "markdown",
   "id": "1e91a16a",
   "metadata": {},
   "source": [
    "## Train Neural Network on ULB dataset"
   ]
  },
  {
   "cell_type": "code",
   "execution_count": 4,
   "id": "bb033571",
   "metadata": {},
   "outputs": [
    {
     "name": "stdout",
     "output_type": "stream",
     "text": [
      "Loading ulb dataset...\n",
      "\n",
      "Training neural network...\n"
     ]
    },
    {
     "name": "stderr",
     "output_type": "stream",
     "text": [
      "100%|███████████████████████████████████████████████████████████████████████████████████████████████████████████████| 100/100 [00:30<00:00,  3.33it/s]\n"
     ]
    },
    {
     "name": "stdout",
     "output_type": "stream",
     "text": [
      "Time taken to train model: 0 mins, 30 seconds, 170 ms\n",
      "\n",
      "Test results:\n",
      "Average precision: 0.7506349282898199\n",
      "AUC ROC score: 0.9789749269018697\n",
      "Accuracy score: 0.9990695551420246\n",
      "              precision    recall  f1-score   support\n",
      "\n",
      "           0       1.00      1.00      1.00     56887\n",
      "           1       0.62      0.77      0.69        75\n",
      "\n",
      "    accuracy                           1.00     56962\n",
      "   macro avg       0.81      0.89      0.84     56962\n",
      "weighted avg       1.00      1.00      1.00     56962\n",
      "\n",
      "\n",
      "Saving plaintext neural network model at ./server-files/ulb-nn.pt\n"
     ]
    },
    {
     "data": {
      "image/png": "[encoded data removed]",
      "text/plain": [
       "<Figure size 360x360 with 2 Axes>"
      ]
     },
     "metadata": {
      "needs_background": "light"
     },
     "output_type": "display_data"
    }
   ],
   "source": [
    "%run train_nn.py --dataset=ulb"
   ]
  },
  {
   "cell_type": "markdown",
   "id": "32cfbebd",
   "metadata": {},
   "source": [
    "## Train XGBoost on IEEE dataset"
   ]
  },
  {
   "cell_type": "code",
   "execution_count": 1,
   "id": "bd71a41c",
   "metadata": {},
   "outputs": [
    {
     "name": "stderr",
     "output_type": "stream",
     "text": [
      "/home/nugentd1@ad.mee.tcd.ie/nuggi/fyp/cc-he-poc/src/env/lib/python3.8/site-packages/tqdm/auto.py:22: TqdmWarning: IProgress not found. Please update jupyter and ipywidgets. See https://ipywidgets.readthedocs.io/en/stable/user_install.html\n",
      "  from .autonotebook import tqdm as notebook_tqdm\n"
     ]
    },
    {
     "name": "stdout",
     "output_type": "stream",
     "text": [
      "Loading ieee dataset...\n",
      "\n",
      "ieee: 590540 total values, num fraudulant: 20663\n",
      "training set: 50833 total values, num fraudulant: 13126\n",
      "valid set: 88581 total values, num fraudulant: 3473\n",
      "test set: 118108 total values, num fraudulant: 4064\n",
      "\n",
      "Training XGBoost model...\n",
      "Time taken to train model: 0 mins, 5 seconds, 319 ms\n",
      "Encrypting model...\n",
      "Time taken to encrypt model: 2 mins, 21 seconds, 949 ms\n",
      "\n",
      "Testing encrypted model...\n",
      "Making plaintext predictions.\n",
      "Plaintext predictions: [1. 1. 0. 0. 1. 0. 1. 1. 0. 1. 1. 0. 1. 1. 1. 1. 1. 1. 1. 0. 1. 1. 1. 1.\n",
      " 1. 0. 0. 1. 1. 1. 0. 1. 0. 1. 1. 1. 1. 0. 0. 1. 1. 1. 1. 0. 0. 1. 0. 0.\n",
      " 1. 1. 1. 1. 1. 0. 1. 1. 1. 1. 1. 1. 0. 1. 1. 1. 1. 0. 0. 1. 1. 1. 1. 1.\n",
      " 1. 1. 0.]\n",
      "Encrypting inputs.\n",
      "Making encrypted predictions.\n",
      "Decrypting results.\n",
      "Decrypted predictions: [1. 1. 0. 0. 1. 0. 1. 1. 0. 1. 1. 0. 1. 1. 1. 1. 1. 1. 1. 0. 1. 1. 1. 1.\n",
      " 1. 0. 0. 1. 1. 1. 0. 1. 0. 1. 1. 1. 1. 0. 0. 1. 1. 1. 1. 0. 0. 1. 0. 0.\n",
      " 1. 1. 1. 1. 1. 0. 1. 1. 1. 1. 1. 1. 0. 1. 1. 1. 1. 0. 0. 1. 1. 1. 1. 1.\n",
      " 1. 1. 0.]\n",
      "Success!\n",
      "Time taken for testing: 1 mins, 12 seconds, 209 ms\n",
      "\n",
      "Test results:\n",
      "Average precision: 0.48658765108760804\n",
      "AUC ROC score: 0.8914231609512091\n",
      "Accuracy score: 0.9447285535272801\n",
      "              precision    recall  f1-score   support\n",
      "\n",
      "           0       0.98      0.96      0.97    114044\n",
      "           1       0.33      0.58      0.42      4064\n",
      "\n",
      "    accuracy                           0.94    118108\n",
      "   macro avg       0.66      0.77      0.69    118108\n",
      "weighted avg       0.96      0.94      0.95    118108\n",
      "\n",
      "\n",
      "Saving plaintext xgboost model at ./server-files/ieee-xgboost.pt\n"
     ]
    },
    {
     "data": {
      "image/png": "[encoded data removed]",
      "text/plain": [
       "<Figure size 360x360 with 2 Axes>"
      ]
     },
     "metadata": {
      "needs_background": "light"
     },
     "output_type": "display_data"
    }
   ],
   "source": [
    "%run train_xgb.py --cores=8 --dataset=ieee"
   ]
  },
  {
   "cell_type": "markdown",
   "id": "c5a906c9",
   "metadata": {},
   "source": [
    "## Run server for encrypted inference"
   ]
  },
  {
   "cell_type": "code",
   "execution_count": 1,
   "id": "d16d5ed8",
   "metadata": {
    "scrolled": true
   },
   "outputs": [
    {
     "name": "stderr",
     "output_type": "stream",
     "text": [
      "/home/nugentd1@ad.mee.tcd.ie/nuggi/fyp/cc-he-poc/src/env/lib/python3.8/site-packages/tqdm/auto.py:22: TqdmWarning: IProgress not found. Please update jupyter and ipywidgets. See https://ipywidgets.readthedocs.io/en/stable/user_install.html\n",
      "  from .autonotebook import tqdm as notebook_tqdm\n"
     ]
    },
    {
     "name": "stdout",
     "output_type": "stream",
     "text": [
      " * Serving Flask app 'cc_he_server' (lazy loading)\n",
      " * Environment: production\n",
      "\u001b[31m   WARNING: This is a development server. Do not use it in a production deployment.\u001b[0m\n",
      "\u001b[2m   Use a production WSGI server instead.\u001b[0m\n",
      " * Debug mode: off\n"
     ]
    },
    {
     "name": "stderr",
     "output_type": "stream",
     "text": [
      " * Running on all addresses.\n",
      "   WARNING: This is a development server. Do not use it in a production deployment.\n",
      " * Running on http://134.226.86.101:8000/ (Press CTRL+C to quit)\n"
     ]
    },
    {
     "name": "stdout",
     "output_type": "stream",
     "text": [
      "\n",
      "Received encrypted input for ieee xgboost model:\n"
     ]
    },
    {
     "data": {
      "text/html": [
       "<div>\n",
       "<style scoped>\n",
       "    .dataframe tbody tr th:only-of-type {\n",
       "        vertical-align: middle;\n",
       "    }\n",
       "\n",
       "    .dataframe tbody tr th {\n",
       "        vertical-align: top;\n",
       "    }\n",
       "\n",
       "    .dataframe thead th {\n",
       "        text-align: right;\n",
       "    }\n",
       "</style>\n",
       "<table border=\"1\" class=\"dataframe\">\n",
       "  <thead>\n",
       "    <tr style=\"text-align: right;\">\n",
       "      <th></th>\n",
       "      <th>vyD5ecshrXBqTaDe81E8pEKj2tit198YEHc9T4jIbbY=</th>\n",
       "      <th>fD1oSo+xadK2U9OzCGbtYcq7M8yvPRA+oyncusOvKtk=</th>\n",
       "      <th>xoOOo+f2xCy85Zv23EABpPObHDyosh1r3e8SHM51AWc=</th>\n",
       "      <th>R5GJCbNjJnvSlwmKBEZXFfJeXm+OIVeZZUoD/wALi0M=</th>\n",
       "      <th>t/+v+VYPjKaNJnsaHPuWDkrUdhMKII5Rbm+aIo2UEkA=</th>\n",
       "      <th>Ayy00m7+d30EbFNDmVzHwPIyfKtPjRd1NCitoO0q3YI=</th>\n",
       "      <th>5ZW3WN6BsbBFXdQV9zKF3l0Tdf0LdIj9xloXVOQVeuM=</th>\n",
       "      <th>toYoOb+28/XGBPO6e9ewucgfvGLj+va8ARsqfk8Pnr8=</th>\n",
       "      <th>9hWkE4NkwY6joaruPOrCXnl8dSUFQmqiJlT4QDO2d88=</th>\n",
       "      <th>mU+jBAjTGz/aKZs5g+E17SRVPf0JLGnitVlJE6+Rzd8=</th>\n",
       "      <th>...</th>\n",
       "      <th>NdFjmzOsWUl44AUBAbYO3ukBG6Ivne7DeAq1CuSGcPc=</th>\n",
       "      <th>O0aA7jFW7AcqT7xnjC94c2Vh2yzda/3d9QHPeu8Kbgw=</th>\n",
       "      <th>fA7d5P46PhFxaMQgIEomxT0sqHlW8ZGQ51q2ftaHX8c=</th>\n",
       "      <th>d06OLwojOWXeuBQKqXVLNAwOfxzGnrhzut74+6Pyg98=</th>\n",
       "      <th>Daa5D/gGVWwTEwr3JKE/II2gF9PTaqoyjtO42hac8ws=</th>\n",
       "      <th>sMshmN+9A0JibTU23lFcU96AQrqGfGG7Yk4zX64zqdQ=</th>\n",
       "      <th>WMxcMfZXxhwn6RQmUvirPhI/sgLH4nDT+7v6t8QDf/U=</th>\n",
       "      <th>bDsYsdUvjjRNL0z8E2Za/VCQya2xBRnlkM+wkIihNqw=</th>\n",
       "      <th>8NSDfcnmriFQQhW6+64BWlMwKBgruQBE78ZY6im3eZA=</th>\n",
       "      <th>eW3ZkIoEUgVKHxUt1igZ0/3Gx3hk29HytX82zUomsJ8=</th>\n",
       "    </tr>\n",
       "    <tr>\n",
       "      <th>TransactionID</th>\n",
       "      <th></th>\n",
       "      <th></th>\n",
       "      <th></th>\n",
       "      <th></th>\n",
       "      <th></th>\n",
       "      <th></th>\n",
       "      <th></th>\n",
       "      <th></th>\n",
       "      <th></th>\n",
       "      <th></th>\n",
       "      <th></th>\n",
       "      <th></th>\n",
       "      <th></th>\n",
       "      <th></th>\n",
       "      <th></th>\n",
       "      <th></th>\n",
       "      <th></th>\n",
       "      <th></th>\n",
       "      <th></th>\n",
       "      <th></th>\n",
       "      <th></th>\n",
       "    </tr>\n",
       "  </thead>\n",
       "  <tbody>\n",
       "    <tr>\n",
       "      <th>3468513</th>\n",
       "      <td>7301121359774136185</td>\n",
       "      <td>5.864045e+14</td>\n",
       "      <td>582747479941197</td>\n",
       "      <td>9848624220811542</td>\n",
       "      <td>9.006340e+14</td>\n",
       "      <td>6.906556e+14</td>\n",
       "      <td>585081571241710</td>\n",
       "      <td>6.632375e+14</td>\n",
       "      <td>584498204459161</td>\n",
       "      <td>684188.0</td>\n",
       "      <td>...</td>\n",
       "      <td>614824775064230</td>\n",
       "      <td>684188.0</td>\n",
       "      <td>582747479941197</td>\n",
       "      <td>582747479941197</td>\n",
       "      <td>583331456802853</td>\n",
       "      <td>583331456802853</td>\n",
       "      <td>583914923844325</td>\n",
       "      <td>583331456802853</td>\n",
       "      <td>583914923844325</td>\n",
       "      <td>694157147562432</td>\n",
       "    </tr>\n",
       "  </tbody>\n",
       "</table>\n",
       "<p>1 rows × 432 columns</p>\n",
       "</div>"
      ],
      "text/plain": [
       "               vyD5ecshrXBqTaDe81E8pEKj2tit198YEHc9T4jIbbY=  \\\n",
       "TransactionID                                                 \n",
       "3468513                                 7301121359774136185   \n",
       "\n",
       "               fD1oSo+xadK2U9OzCGbtYcq7M8yvPRA+oyncusOvKtk=  \\\n",
       "TransactionID                                                 \n",
       "3468513                                        5.864045e+14   \n",
       "\n",
       "               xoOOo+f2xCy85Zv23EABpPObHDyosh1r3e8SHM51AWc=  \\\n",
       "TransactionID                                                 \n",
       "3468513                                     582747479941197   \n",
       "\n",
       "               R5GJCbNjJnvSlwmKBEZXFfJeXm+OIVeZZUoD/wALi0M=  \\\n",
       "TransactionID                                                 \n",
       "3468513                                    9848624220811542   \n",
       "\n",
       "               t/+v+VYPjKaNJnsaHPuWDkrUdhMKII5Rbm+aIo2UEkA=  \\\n",
       "TransactionID                                                 \n",
       "3468513                                        9.006340e+14   \n",
       "\n",
       "               Ayy00m7+d30EbFNDmVzHwPIyfKtPjRd1NCitoO0q3YI=  \\\n",
       "TransactionID                                                 \n",
       "3468513                                        6.906556e+14   \n",
       "\n",
       "               5ZW3WN6BsbBFXdQV9zKF3l0Tdf0LdIj9xloXVOQVeuM=  \\\n",
       "TransactionID                                                 \n",
       "3468513                                     585081571241710   \n",
       "\n",
       "               toYoOb+28/XGBPO6e9ewucgfvGLj+va8ARsqfk8Pnr8=  \\\n",
       "TransactionID                                                 \n",
       "3468513                                        6.632375e+14   \n",
       "\n",
       "               9hWkE4NkwY6joaruPOrCXnl8dSUFQmqiJlT4QDO2d88=  \\\n",
       "TransactionID                                                 \n",
       "3468513                                     584498204459161   \n",
       "\n",
       "               mU+jBAjTGz/aKZs5g+E17SRVPf0JLGnitVlJE6+Rzd8=  ...  \\\n",
       "TransactionID                                                ...   \n",
       "3468513                                            684188.0  ...   \n",
       "\n",
       "               NdFjmzOsWUl44AUBAbYO3ukBG6Ivne7DeAq1CuSGcPc=  \\\n",
       "TransactionID                                                 \n",
       "3468513                                     614824775064230   \n",
       "\n",
       "               O0aA7jFW7AcqT7xnjC94c2Vh2yzda/3d9QHPeu8Kbgw=  \\\n",
       "TransactionID                                                 \n",
       "3468513                                            684188.0   \n",
       "\n",
       "               fA7d5P46PhFxaMQgIEomxT0sqHlW8ZGQ51q2ftaHX8c=  \\\n",
       "TransactionID                                                 \n",
       "3468513                                     582747479941197   \n",
       "\n",
       "               d06OLwojOWXeuBQKqXVLNAwOfxzGnrhzut74+6Pyg98=  \\\n",
       "TransactionID                                                 \n",
       "3468513                                     582747479941197   \n",
       "\n",
       "               Daa5D/gGVWwTEwr3JKE/II2gF9PTaqoyjtO42hac8ws=  \\\n",
       "TransactionID                                                 \n",
       "3468513                                     583331456802853   \n",
       "\n",
       "               sMshmN+9A0JibTU23lFcU96AQrqGfGG7Yk4zX64zqdQ=  \\\n",
       "TransactionID                                                 \n",
       "3468513                                     583331456802853   \n",
       "\n",
       "               WMxcMfZXxhwn6RQmUvirPhI/sgLH4nDT+7v6t8QDf/U=  \\\n",
       "TransactionID                                                 \n",
       "3468513                                     583914923844325   \n",
       "\n",
       "               bDsYsdUvjjRNL0z8E2Za/VCQya2xBRnlkM+wkIihNqw=  \\\n",
       "TransactionID                                                 \n",
       "3468513                                     583331456802853   \n",
       "\n",
       "               8NSDfcnmriFQQhW6+64BWlMwKBgruQBE78ZY6im3eZA=  \\\n",
       "TransactionID                                                 \n",
       "3468513                                     583914923844325   \n",
       "\n",
       "               eW3ZkIoEUgVKHxUt1igZ0/3Gx3hk29HytX82zUomsJ8=  \n",
       "TransactionID                                                \n",
       "3468513                                     694157147562432  \n",
       "\n",
       "[1 rows x 432 columns]"
      ]
     },
     "metadata": {},
     "output_type": "display_data"
    },
    {
     "name": "stderr",
     "output_type": "stream",
     "text": [
      "134.226.86.101 - - [30/Mar/2022 02:22:23] \"POST /xgboost/ieee HTTP/1.1\" 200 -\n"
     ]
    },
    {
     "name": "stdout",
     "output_type": "stream",
     "text": [
      "Inference time: 0 mins, 0 seconds, 37 ms\n"
     ]
    }
   ],
   "source": [
    "%run cc_he_server.py"
   ]
  }
 ],
 "metadata": {
  "kernelspec": {
   "display_name": "fyp2",
   "language": "python",
   "name": "fyp2"
  },
  "language_info": {
   "codemirror_mode": {
    "name": "ipython",
    "version": 3
   },
   "file_extension": ".py",
   "mimetype": "text/x-python",
   "name": "python",
   "nbconvert_exporter": "python",
   "pygments_lexer": "ipython3",
   "version": "3.8.10"
  }
 },
 "nbformat": 4,
 "nbformat_minor": 5
}
