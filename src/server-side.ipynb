{
 "cells": [
  {
   "cell_type": "markdown",
   "id": "332fa3f1",
   "metadata": {},
   "source": [
    "# Server Side\n",
    "\n",
    "* Train models\n",
    "* Host server for encrypted inference"
   ]
  },
  {
   "cell_type": "code",
   "execution_count": 2,
   "id": "e57793d4",
   "metadata": {
    "scrolled": false
   },
   "outputs": [
    {
     "name": "stdout",
     "output_type": "stream",
     "text": [
      "ulb dataset loaded ✅..\n",
      "ulb: 284807 total values, num fraudulant: 492\n",
      "training set: 2554 total values, num fraudulant: 368\n",
      "valid set: 42721 total values, num fraudulant: 49\n",
      "test set: 56962 total values, num fraudulant: 75\n",
      "\n",
      "Training XGBoost model...\n",
      "Time taken to train model: 0.00658904011749352\n",
      "\n",
      "Encrypting model...\n",
      "Time taken to encrypt model: 0.5551333619999544\n",
      "\n",
      "Testing encrypted model...\n",
      "Making plaintext predictions.\n",
      "Plaintext predictions: [1. 1. 1. 1. 1. 1. 1. 0. 1. 1. 1. 1. 1. 0. 1. 1. 1. 1. 0. 1. 0. 0. 1. 0.\n",
      " 1. 1. 1. 0. 1. 1. 0. 1. 1. 1. 1. 1. 0. 1. 1. 1. 0. 1. 1. 1. 1. 1. 1. 0.\n",
      " 1. 0. 1. 1. 1. 1. 1. 1. 1. 1. 1. 1. 1. 0. 1. 1. 1. 1. 0. 1. 1. 1. 1. 1.\n",
      " 1. 1. 1.]\n",
      "Encrypting inputs.\n",
      "Making encrypted predictions.\n",
      "Decrypting results.\n",
      "Decrypted predictions: [1. 1. 1. 1. 1. 1. 1. 0. 1. 1. 1. 1. 1. 0. 1. 1. 1. 1. 0. 1. 0. 0. 1. 0.\n",
      " 1. 1. 1. 0. 1. 1. 0. 1. 1. 1. 1. 1. 0. 1. 1. 1. 0. 1. 1. 1. 1. 1. 1. 0.\n",
      " 1. 0. 1. 1. 1. 1. 1. 1. 1. 1. 1. 1. 1. 0. 1. 1. 1. 1. 0. 1. 1. 1. 1. 1.\n",
      " 1. 1. 1.]\n",
      "Success!\n",
      "Time taken for testing: 0.1218706421495881\n",
      "\n",
      "Test results:\n",
      "Average precision: 0.7842610152661453\n",
      "AUC ROC score: 0.9822316756611059\n",
      "Accuracy score: 0.997471998876444\n",
      "              precision    recall  f1-score   support\n",
      "\n",
      "           0       1.00      1.00      1.00     56887\n",
      "           1       0.32      0.81      0.46        75\n",
      "\n",
      "    accuracy                           1.00     56962\n",
      "   macro avg       0.66      0.91      0.73     56962\n",
      "weighted avg       1.00      1.00      1.00     56962\n",
      "\n",
      "\n",
      "Saving plaintext xgboost model at ./server-files/ulb-xgboost.pt\n"
     ]
    },
    {
     "data": {
      "image/png": "[encoded data removed]",
      "text/plain": [
       "<Figure size 360x360 with 2 Axes>"
      ]
     },
     "metadata": {
      "needs_background": "light"
     },
     "output_type": "display_data"
    }
   ],
   "source": [
    "%run train_xgb.py --cores=8 --dataset=ulb"
   ]
  },
  {
   "cell_type": "code",
   "execution_count": 3,
   "id": "1d14f6db",
   "metadata": {},
   "outputs": [
    {
     "name": "stdout",
     "output_type": "stream",
     "text": [
      "ulb dataset loaded ✅..\n",
      "Training neural network...\n"
     ]
    },
    {
     "name": "stderr",
     "output_type": "stream",
     "text": [
      "100%|███████████████████████████████████████████████████████████████████████████████████████████████████████████████| 100/100 [00:32<00:00,  3.12it/s]\n"
     ]
    },
    {
     "name": "stdout",
     "output_type": "stream",
     "text": [
      "Time taken to train model: 0.5366082228332137\n",
      "\n",
      "Test results:\n",
      "Average precision: 0.7506349282898199\n",
      "AUC ROC score: 0.9789749269018697\n",
      "Accuracy score: 0.9990695551420246\n",
      "              precision    recall  f1-score   support\n",
      "\n",
      "           0       1.00      1.00      1.00     56887\n",
      "           1       0.62      0.77      0.69        75\n",
      "\n",
      "    accuracy                           1.00     56962\n",
      "   macro avg       0.81      0.89      0.84     56962\n",
      "weighted avg       1.00      1.00      1.00     56962\n",
      "\n",
      "\n",
      "Saving plaintext neural network model at ./server-files/ulb-nn.pt\n"
     ]
    },
    {
     "data": {
      "image/png": "[encoded data removed]",
      "text/plain": [
       "<Figure size 360x360 with 2 Axes>"
      ]
     },
     "metadata": {
      "needs_background": "light"
     },
     "output_type": "display_data"
    }
   ],
   "source": [
    "%run train_nn.py --dataset=ulb"
   ]
  },
  {
   "cell_type": "code",
   "execution_count": 7,
   "id": "630f14c7",
   "metadata": {},
   "outputs": [
    {
     "name": "stdout",
     "output_type": "stream",
     "text": [
      "ieee dataset loaded ✅..\n",
      "ieee: 590540 total values, num fraudulant: 20663\n",
      "training set: 28691 total values, num fraudulant: 13126\n",
      "valid set: 88581 total values, num fraudulant: 3473\n",
      "test set: 118108 total values, num fraudulant: 4064\n",
      "\n",
      "Training XGBoost model...\n",
      "Time taken to train model: 0.07051322168166128\n",
      "\n",
      "Encrypting model...\n",
      "Time taken to encrypt model: 2.077688563783886\n",
      "\n",
      "Testing encrypted model...\n",
      "Making plaintext predictions.\n",
      "Plaintext predictions: [1. 1. 0. 0. 1. 0. 1. 1. 0. 1. 1. 1. 1. 1. 1. 1. 1. 1. 1. 0. 1. 1. 1. 1.\n",
      " 1. 1. 1. 1. 1. 1. 1. 1. 1. 1. 1. 0. 1. 0. 1. 1. 1. 1. 1. 0. 1. 1. 0. 0.\n",
      " 1. 1. 1. 1. 1. 0. 0. 1. 1. 1. 1. 1. 0. 1. 1. 1. 1. 0. 0. 1. 1. 1. 1. 1.\n",
      " 1. 1. 1.]\n",
      "Encrypting inputs.\n",
      "Making encrypted predictions.\n",
      "Decrypting results.\n",
      "Decrypted predictions: [1. 1. 0. 0. 1. 0. 1. 1. 0. 1. 1. 1. 1. 1. 1. 1. 1. 1. 1. 0. 1. 1. 1. 1.\n",
      " 1. 1. 1. 1. 1. 1. 1. 1. 1. 1. 1. 0. 1. 0. 1. 1. 1. 1. 1. 0. 1. 1. 0. 0.\n",
      " 1. 1. 1. 1. 1. 0. 0. 1. 1. 1. 1. 1. 0. 1. 1. 1. 1. 0. 0. 1. 1. 1. 1. 1.\n",
      " 1. 1. 1.]\n",
      "Success!\n",
      "Time taken for testing: 0.856253059982555\n",
      "\n",
      "Test results:\n",
      "Average precision: 0.4657535985177101\n",
      "AUC ROC score: 0.884217874094803\n",
      "Accuracy score: 0.8864513834795272\n",
      "              precision    recall  f1-score   support\n",
      "\n",
      "           0       0.99      0.89      0.94    114044\n",
      "           1       0.19      0.70      0.30      4064\n",
      "\n",
      "    accuracy                           0.89    118108\n",
      "   macro avg       0.59      0.80      0.62    118108\n",
      "weighted avg       0.96      0.89      0.92    118108\n",
      "\n",
      "\n",
      "Saving plaintext xgboost model at ./server-files/ieee-xgboost.pt\n"
     ]
    },
    {
     "data": {
      "image/png": "[encoded data removed]",
      "text/plain": [
       "<Figure size 360x360 with 2 Axes>"
      ]
     },
     "metadata": {
      "needs_background": "light"
     },
     "output_type": "display_data"
    }
   ],
   "source": [
    "%run train_xgb.py --cores=8 --dataset=ieee"
   ]
  },
  {
   "cell_type": "code",
   "execution_count": null,
   "id": "0d2a7ac6",
   "metadata": {},
   "outputs": [
    {
     "name": "stderr",
     "output_type": "stream",
     "text": [
      "/home/nugentd1@ad.mee.tcd.ie/nuggi/fyp/cc-he-poc/src/env/lib/python3.8/site-packages/tqdm/auto.py:22: TqdmWarning: IProgress not found. Please update jupyter and ipywidgets. See https://ipywidgets.readthedocs.io/en/stable/user_install.html\n",
      "  from .autonotebook import tqdm as notebook_tqdm\n"
     ]
    },
    {
     "name": "stdout",
     "output_type": "stream",
     "text": [
      " * Serving Flask app 'cc_he_server' (lazy loading)\n",
      " * Environment: production\n",
      "\u001b[31m   WARNING: This is a development server. Do not use it in a production deployment.\u001b[0m\n",
      "\u001b[2m   Use a production WSGI server instead.\u001b[0m\n",
      " * Debug mode: off\n"
     ]
    },
    {
     "name": "stderr",
     "output_type": "stream",
     "text": [
      " * Running on all addresses.\n",
      "   WARNING: This is a development server. Do not use it in a production deployment.\n",
      " * Running on http://134.226.86.101:8000/ (Press CTRL+C to quit)\n",
      "134.226.86.101 - - [29/Mar/2022 19:19:24] \"POST /xgboost/ieee HTTP/1.1\" 200 -\n"
     ]
    },
    {
     "name": "stdout",
     "output_type": "stream",
     "text": [
      "56175\n"
     ]
    }
   ],
   "source": [
    "%run cc_he_server.py"
   ]
  }
 ],
 "metadata": {
  "kernelspec": {
   "display_name": "fyp2",
   "language": "python",
   "name": "fyp2"
  },
  "language_info": {
   "codemirror_mode": {
    "name": "ipython",
    "version": 3
   },
   "file_extension": ".py",
   "mimetype": "text/x-python",
   "name": "python",
   "nbconvert_exporter": "python",
   "pygments_lexer": "ipython3",
   "version": "3.8.10"
  }
 },
 "nbformat": 4,
 "nbformat_minor": 5
}
