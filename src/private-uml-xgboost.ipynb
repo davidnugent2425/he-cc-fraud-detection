{
 "cells": [
  {
   "cell_type": "markdown",
   "id": "35c6dfba",
   "metadata": {},
   "source": [
    "# Credit Card Fraud Detection using Homomorphic Encryption Neural Network\n",
    "\n",
    "This notebook is a proof of concept of running a credit card (CC) fraud detection neural network on encrypted data. A plaintext neural network is first trained using [PyTorch](https://pytorch.org/), and then a private network uses these weights to perform homomorphic encryption (HE) operations with [TenSEAL](https://github.com/OpenMined/TenSEAL). Included in the aims were to keep computation costs down by using a low-layer neural network."
   ]
  },
  {
   "cell_type": "code",
   "execution_count": 1,
   "id": "4ecb8da4",
   "metadata": {},
   "outputs": [],
   "source": [
    "n_estimators = 100\n",
    "train = True"
   ]
  },
  {
   "cell_type": "code",
   "execution_count": 2,
   "id": "a0b734b3",
   "metadata": {},
   "outputs": [],
   "source": [
    "import sys\n",
    "\n",
    "from ppxgboost import BoosterParser as boostparser\n",
    "from ppxgboost import PPBooster as ppbooster\n",
    "from ppxgboost import PaillierAPI as paillier\n",
    "from ppxgboost.PPBooster import MetaData\n",
    "from ppxgboost.PPKey import PPBoostKey\n",
    "import sys\n",
    "import random\n",
    "import time\n",
    "import pandas as pd\n",
    "import numpy as np\n",
    "import xgboost as xgb\n",
    "from xgboost import XGBClassifier\n",
    "from secrets import token_bytes\n",
    "from ope.pyope.ope import OPE\n",
    "\n",
    "\n",
    "import matplotlib.pyplot as plt\n",
    "import seaborn as sns\n",
    "from sklearn.model_selection import train_test_split\n",
    "from collections import Counter\n",
    "from sklearn import metrics\n",
    "import pickle"
   ]
  },
  {
   "cell_type": "markdown",
   "id": "b3c1e0e8",
   "metadata": {},
   "source": [
    "## Dataset\n",
    "\n",
    "The dataset used is the [Credit Card Fraud Detection](https://www.kaggle.com/mlg-ulb/creditcardfraud) dataset created by Machine Learning Group - ULB. It consists of 284,807 transactions, 492 of which are fraudulant. \n",
    "\n",
    "Each transaction has 30 pieces of information, and a Class of 0 for *valid* or 1 for *fraudulant*. All column names other than Time and Amount have been obfuscated for privacy. In our case, the dataset may not need to have obfuscated column names, as the network could potentially be trained on encrypted data."
   ]
  },
  {
   "cell_type": "code",
   "execution_count": 3,
   "id": "0b517ed7",
   "metadata": {},
   "outputs": [
    {
     "name": "stdout",
     "output_type": "stream",
     "text": [
      "   Time        V1        V2        V3        V4        V5        V6        V7  \\\n",
      "0   0.0 -1.359807 -0.072781  2.536347  1.378155 -0.338321  0.462388  0.239599   \n",
      "\n",
      "         V8        V9  ...       V21       V22       V23       V24       V25  \\\n",
      "0  0.098698  0.363787  ... -0.018307  0.277838 -0.110474  0.066928  0.128539   \n",
      "\n",
      "        V26       V27       V28  Amount  Class  \n",
      "0 -0.189115  0.133558 -0.021053  149.62      0  \n",
      "\n",
      "[1 rows x 31 columns]\n"
     ]
    }
   ],
   "source": [
    "# Show the first row of the dataset\n",
    "data = pd.read_csv('../data/creditcard.csv')\n",
    "print(data.head(1))"
   ]
  },
  {
   "cell_type": "markdown",
   "id": "08275263",
   "metadata": {},
   "source": [
    "The percentage of fraudulant transactions in the dataset is very low, which is something we may consider in the design of our network."
   ]
  },
  {
   "cell_type": "code",
   "execution_count": 4,
   "id": "e577c72c",
   "metadata": {},
   "outputs": [
    {
     "data": {
      "image/png": "[encoded data removed]",
      "text/plain": [
       "<Figure size 432x288 with 1 Axes>"
      ]
     },
     "metadata": {
      "needs_background": "light"
     },
     "output_type": "display_data"
    },
    {
     "name": "stdout",
     "output_type": "stream",
     "text": [
      "Percentage of fraudulant transactions: 0.17%\n"
     ]
    }
   ],
   "source": [
    "# The percentage of fraudulant transactions in the dataset is very low, which is something we may consider in the\n",
    "# design of our network.\n",
    "plt.hist(data['Class'], color='red')\n",
    "plt.xlabel('Class')\n",
    "plt.ylabel('Transaction')\n",
    "plt.title('Class Imbalance', fontsize=15)\n",
    "plt.show()\n",
    "pc_fraud = len(data.loc[data['Class'] == 1].values)/len(data.loc[data['Class'] == 0].values)\n",
    "print('Percentage of fraudulant transactions: {:.2f}%'.format(pc_fraud*100))"
   ]
  },
  {
   "cell_type": "markdown",
   "id": "63d06e05",
   "metadata": {},
   "source": [
    "The data is then preprocessed and split into a dataset for training the network and a dataset for testing it."
   ]
  },
  {
   "cell_type": "code",
   "execution_count": 5,
   "id": "172311e4",
   "metadata": {},
   "outputs": [
    {
     "name": "stdout",
     "output_type": "stream",
     "text": [
      "Distribution of each dataset:\n",
      "Train: Counter({0: 213207, 1: 398})\n",
      "Test: Counter({0: 71108, 1: 94})\n"
     ]
    }
   ],
   "source": [
    "# Preprocessing the data by scaling into a [0,1] range and splitting into inputs x and outputs y\n",
    "x = data.drop('Class', axis=1)\n",
    "y = data['Class']\n",
    "# scaler = MinMaxScaler(feature_range=(-1,1))\n",
    "# scaler.fit(x)\n",
    "# x = scaler.transform(x)\n",
    "\n",
    "# Splitting the data into a dataset for training the network and a dataset for testing it\n",
    "xtrain, xtest, ytrain, ytest = train_test_split(x, y, test_size=0.25, shuffle=False)\n",
    "\n",
    "print('Distribution of each dataset:')\n",
    "print('Train: %s' % Counter(ytrain))\n",
    "print('Test: %s' % Counter(ytest))"
   ]
  },
  {
   "cell_type": "code",
   "execution_count": 6,
   "id": "54926f15",
   "metadata": {},
   "outputs": [],
   "source": [
    "if train:\n",
    "    clf = xgb.XGBClassifier( \n",
    "            n_estimators=n_estimators,\n",
    "    #         max_depth=12, \n",
    "    #         learning_rate=0.02, \n",
    "    #         subsample=0.8,\n",
    "    #         colsample_bytree=0.4, \n",
    "    #         missing=-1, \n",
    "    #         eval_metric='auc',\n",
    "            # USE CPU\n",
    "    #         nthread=8,\n",
    "    #         tree_method='hist' \n",
    "            # USE GPU\n",
    "            tree_method='gpu_hist' \n",
    "        )\n",
    "\n",
    "    clf.fit(xtrain, ytrain)\n",
    "    model = clf.get_booster()"
   ]
  },
  {
   "cell_type": "code",
   "execution_count": 7,
   "id": "4a21b9b6",
   "metadata": {},
   "outputs": [],
   "source": [
    "model_filename = 'xgb-uml-clf-{}.txt'.format(n_estimators)\n",
    "if train:\n",
    "    pickle.dump(model, open(model_filename, \"wb\" ))\n",
    "else:\n",
    "    model = pickle.load(open(model_filename, \"rb\"))"
   ]
  },
  {
   "cell_type": "markdown",
   "id": "4938549d",
   "metadata": {},
   "source": [
    "## Evaluation\n",
    "\n",
    "To validate that our Plaintext Model and our HE Model output the same values, we will evaluate a small subset of our test set with each network. Evaluating the full test set with our HE Model would take a lot of time, so we can leave the evaluation of the full test set to the Plaintext Model."
   ]
  },
  {
   "cell_type": "code",
   "execution_count": 8,
   "id": "c0f38397",
   "metadata": {},
   "outputs": [],
   "source": [
    "# 1. parsing to internal tree data structure, and output feature set\n",
    "min_max = boostparser.training_dataset_parser(xtest)\n",
    "enc_tree, feature_set, min_max = boostparser.model_to_trees(model, min_max)\n",
    "\n",
    "# 2. Set up encryption materials.\n",
    "prf_key = token_bytes(16)\n",
    "public_key, private_key = paillier.he_key_gen()\n",
    "encrypter = OPE(token_bytes(16))\n",
    "ppBoostKey = PPBoostKey(public_key, prf_key, encrypter)"
   ]
  },
  {
   "cell_type": "code",
   "execution_count": 9,
   "id": "4f9869e1",
   "metadata": {},
   "outputs": [],
   "source": [
    "# helpers for paralellising the encryption of tree nodes\n",
    "from joblib import Parallel, delayed\n",
    "import itertools\n",
    "def chunk_arr(arr, num_chunks):\n",
    "    chunk_size = len(arr) // num_chunks\n",
    "    return [(arr[i:i+chunk_size]) for i in range(0,len(arr),chunk_size)]\n",
    "    \n",
    "def dechunk_arr(chunks):\n",
    "    return list(itertools.chain.from_iterable(chunks))"
   ]
  },
  {
   "cell_type": "code",
   "execution_count": 10,
   "id": "c315f79e",
   "metadata": {},
   "outputs": [
    {
     "name": "stdout",
     "output_type": "stream",
     "text": [
      "CPU times: user 25 ms, sys: 84.9 ms, total: 110 ms\n",
      "Wall time: 12.5 s\n"
     ]
    }
   ],
   "source": [
    "%%time\n",
    "# 3. process the tree into enc_tree\n",
    "output_chunks = Parallel(n_jobs=8)(delayed(ppbooster.enc_xgboost_model)(ppBoostKey, chunk, MetaData(min_max)) for chunk in chunk_arr(enc_tree, 8))\n",
    "enc_tree = dechunk_arr(output_chunks)"
   ]
  },
  {
   "cell_type": "code",
   "execution_count": 11,
   "id": "10f57b5d",
   "metadata": {},
   "outputs": [
    {
     "name": "stdout",
     "output_type": "stream",
     "text": [
      "CPU times: user 1.43 ms, sys: 201 µs, total: 1.63 ms\n",
      "Wall time: 658 µs\n",
      "CPU times: user 190 ms, sys: 4.24 ms, total: 195 ms\n",
      "Wall time: 194 ms\n",
      "CPU times: user 11.6 ms, sys: 0 ns, total: 11.6 ms\n",
      "Wall time: 11.5 ms\n"
     ]
    },
    {
     "data": {
      "text/plain": [
       "array([<phe.paillier.EncryptedNumber object at 0x7f0e601ada60>],\n",
       "      dtype=object)"
      ]
     },
     "execution_count": 11,
     "metadata": {},
     "output_type": "execute_result"
    }
   ],
   "source": [
    "# Time difference between Plaintext Model and HE Model\n",
    "sample = xgb.DMatrix(xtest.head(1))\n",
    "%time model.predict(sample)\n",
    "encrypted_xtest = xtest.head(1).copy()\n",
    "%time ppbooster.enc_input_vector(prf_key, encrypter, feature_set, encrypted_xtest, MetaData(min_max))\n",
    "%time ppbooster.predict_binary(enc_tree, encrypted_xtest)"
   ]
  },
  {
   "cell_type": "code",
   "execution_count": 12,
   "id": "a754c01f",
   "metadata": {},
   "outputs": [],
   "source": [
    "from sklearn import metrics\n",
    "def evaluate_predictions(preds, truths, n_estimators, threshold=0.5):\n",
    "    print('Number of estimators:', n_estimators)\n",
    "    print('AUPRC score: {}'.format(metrics.average_precision_score(truths, preds)))\n",
    "    print('AUROC score: {}'.format(metrics.roc_auc_score(truths, preds)))\n",
    "    preds[preds>=threshold] = 1.0\n",
    "    preds[preds<threshold] = 0.0\n",
    "    conf_matrix = metrics.confusion_matrix(truths, preds)\n",
    "    plt.figure(figsize=(5, 5))\n",
    "    labels = [\"Valid\", \"Fraud\"]\n",
    "    sns.heatmap(conf_matrix, xticklabels=labels, yticklabels=labels, annot=True, fmt=\"d\");\n",
    "    plt.title(\"Confusion matrix\")\n",
    "    plt.ylabel('True class')\n",
    "    plt.xlabel('Predicted class')\n",
    "    print('Accuracy score: {}'.format(metrics.accuracy_score(truths, preds)))\n",
    "    print(metrics.classification_report(truths, preds))"
   ]
  },
  {
   "cell_type": "code",
   "execution_count": 13,
   "id": "38e73a68",
   "metadata": {},
   "outputs": [],
   "source": [
    "# We'll take the indices of all the fraudulant transactions in the test set\n",
    "fraud_test_idxs = ytest==1\n",
    "# And combine them with an extra 100 transactions\n",
    "fraud_test_idxs[:100] = True"
   ]
  },
  {
   "cell_type": "markdown",
   "id": "ebc026c9",
   "metadata": {},
   "source": [
    "Evaluation of the sample with the Plaintext Model"
   ]
  },
  {
   "cell_type": "code",
   "execution_count": 14,
   "id": "20a66fe7",
   "metadata": {},
   "outputs": [
    {
     "name": "stdout",
     "output_type": "stream",
     "text": [
      "CPU times: user 1.91 ms, sys: 0 ns, total: 1.91 ms\n",
      "Wall time: 1.66 ms\n",
      "Number of estimators: 100\n",
      "AUPRC score: 0.9781404470298933\n",
      "AUROC score: 0.9743617021276596\n",
      "Accuracy score: 0.845360824742268\n",
      "              precision    recall  f1-score   support\n",
      "\n",
      "           0       0.77      1.00      0.87       100\n",
      "           1       1.00      0.68      0.81        94\n",
      "\n",
      "    accuracy                           0.85       194\n",
      "   macro avg       0.88      0.84      0.84       194\n",
      "weighted avg       0.88      0.85      0.84       194\n",
      "\n"
     ]
    },
    {
     "data": {
      "image/png": "[encoded data removed]",
      "text/plain": [
       "<Figure size 360x360 with 2 Axes>"
      ]
     },
     "metadata": {
      "needs_background": "light"
     },
     "output_type": "display_data"
    }
   ],
   "source": [
    "%time results = model.predict(xgb.DMatrix(xtest[fraud_test_idxs]))\n",
    "evaluate_predictions(results, ytest[fraud_test_idxs], n_estimators)"
   ]
  },
  {
   "cell_type": "markdown",
   "id": "8d62cf93",
   "metadata": {},
   "source": [
    "The most important intuitive metric shown above is the *Confusion matrix* which shows in this case that all 100 valid transactions were successfully labelled as valid, and 79 of the 101 fraudulant transactions were successfully labelled as fraudulant.\n",
    "\n",
    "Next the sample is evaluated with the HE Model"
   ]
  },
  {
   "cell_type": "code",
   "execution_count": 15,
   "id": "90fa8362",
   "metadata": {},
   "outputs": [
    {
     "name": "stdout",
     "output_type": "stream",
     "text": [
      "CPU times: user 8.61 ms, sys: 4.11 ms, total: 12.7 ms\n",
      "Wall time: 7.41 s\n",
      "CPU times: user 2.34 s, sys: 2.79 ms, total: 2.34 s\n",
      "Wall time: 2.34 s\n"
     ]
    }
   ],
   "source": [
    "# 5. privacy-preserving evaluation.\n",
    "encrypted_xtest = xtest[fraud_test_idxs].copy()\n",
    "%time encrypted_xtest = Parallel(n_jobs=8)(delayed(ppbooster.enc_input_vector)(prf_key, encrypter, feature_set, chunk, MetaData(min_max)) for chunk in chunk_arr(encrypted_xtest, 8))\n",
    "encrypted_xtest = pd.concat(encrypted_xtest)\n",
    "%time results_encrypted = ppbooster.predict_binary(enc_tree, encrypted_xtest)"
   ]
  },
  {
   "cell_type": "code",
   "execution_count": 16,
   "id": "cb8d4198",
   "metadata": {
    "scrolled": true
   },
   "outputs": [
    {
     "name": "stdout",
     "output_type": "stream",
     "text": [
      "Number of estimators: 100\n",
      "AUPRC score: 0.9781404470298933\n",
      "AUROC score: 0.9743617021276596\n",
      "Accuracy score: 0.845360824742268\n",
      "              precision    recall  f1-score   support\n",
      "\n",
      "           0       0.77      1.00      0.87       100\n",
      "           1       1.00      0.68      0.81        94\n",
      "\n",
      "    accuracy                           0.85       194\n",
      "   macro avg       0.88      0.84      0.84       194\n",
      "weighted avg       0.88      0.85      0.84       194\n",
      "\n"
     ]
    },
    {
     "data": {
      "image/png": "[encoded data removed]",
      "text/plain": [
       "<Figure size 360x360 with 2 Axes>"
      ]
     },
     "metadata": {
      "needs_background": "light"
     },
     "output_type": "display_data"
    }
   ],
   "source": [
    "# 6. decryption\n",
    "results_decrypted = []\n",
    "for c in results_encrypted:\n",
    "    results_decrypted.append(paillier.decrypt(private_key, c))\n",
    "results_decrypted = np.array(results_decrypted).squeeze()\n",
    "\n",
    "evaluate_predictions(results_decrypted, ytest[fraud_test_idxs], n_estimators)"
   ]
  },
  {
   "cell_type": "markdown",
   "id": "5c2fe080",
   "metadata": {},
   "source": [
    "The same results are found. This demonstrates that the Plaintext Model and teh HE Model both output the same values.\n",
    "\n",
    "Finally, the full test set is evaluated using the Plaintext Model. This will demonstrate the performance of the weights used in both models."
   ]
  },
  {
   "cell_type": "code",
   "execution_count": 17,
   "id": "6327bee0",
   "metadata": {},
   "outputs": [
    {
     "name": "stdout",
     "output_type": "stream",
     "text": [
      "CPU times: user 18.3 ms, sys: 11.2 ms, total: 29.5 ms\n",
      "Wall time: 28.1 ms\n",
      "Number of estimators: 100\n",
      "AUPRC score: 0.7728706929168722\n",
      "AUROC score: 0.9821310915730223\n",
      "Accuracy score: 0.9994943962248252\n",
      "              precision    recall  f1-score   support\n",
      "\n",
      "           0       1.00      1.00      1.00     71108\n",
      "           1       0.91      0.68      0.78        94\n",
      "\n",
      "    accuracy                           1.00     71202\n",
      "   macro avg       0.96      0.84      0.89     71202\n",
      "weighted avg       1.00      1.00      1.00     71202\n",
      "\n"
     ]
    },
    {
     "data": {
      "image/png": "[encoded data removed]",
      "text/plain": [
       "<Figure size 360x360 with 2 Axes>"
      ]
     },
     "metadata": {
      "needs_background": "light"
     },
     "output_type": "display_data"
    }
   ],
   "source": [
    "# Evaluation of the full test set with the Plaintext Model\n",
    "%time results = model.predict(xgb.DMatrix(xtest))\n",
    "evaluate_predictions(results, ytest, n_estimators)"
   ]
  },
  {
   "cell_type": "markdown",
   "id": "2ffa9ed7",
   "metadata": {},
   "source": [
    "As shown, 56847 of the 56861 valid transactions are successfully labelled as valid, and 79 of the 101 fraudulant transactions are successfully labelled as fraudulant.\n",
    "\n",
    "Although these results are not perfect, it concludes the demonstration of how a model can be trained using PyTorch to identify fraudulant CC transactions and then converted into a model that can operate on encrypted inputs using HE."
   ]
  },
  {
   "cell_type": "markdown",
   "id": "f863f81c",
   "metadata": {},
   "source": [
    "Some functions for training and evaluation were adapted from this [Kaggle notebook](https://www.kaggle.com/rinabuoy/credit-card-fraud-detection-with-pytorch/notebook) on CC fraud detection.\n",
    "\n",
    "The HE network is adapted from this official [TenSEAL tutorial](https://github.com/OpenMined/courses/blob/foundations-of-private-computation/homomorphic-encryption/Evaluation%20on%20Encrypted%20Data%20using%20TenSEAL%20-%20Solution.ipynb)"
   ]
  }
 ],
 "metadata": {
  "kernelspec": {
   "display_name": "fyp2",
   "language": "python",
   "name": "fyp2"
  },
  "language_info": {
   "codemirror_mode": {
    "name": "ipython",
    "version": 3
   },
   "file_extension": ".py",
   "mimetype": "text/x-python",
   "name": "python",
   "nbconvert_exporter": "python",
   "pygments_lexer": "ipython3",
   "version": "3.8.10"
  }
 },
 "nbformat": 4,
 "nbformat_minor": 5
}
