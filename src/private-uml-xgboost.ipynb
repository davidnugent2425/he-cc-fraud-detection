{
 "cells": [
  {
   "cell_type": "markdown",
   "id": "35c6dfba",
   "metadata": {},
   "source": [
    "# Credit Card Fraud Detection using Homomorphic Encryption Neural Network\n",
    "\n",
    "This notebook is a proof of concept of running a credit card (CC) fraud detection neural network on encrypted data. A plaintext neural network is first trained using [PyTorch](https://pytorch.org/), and then a private network uses these weights to perform homomorphic encryption (HE) operations with [TenSEAL](https://github.com/OpenMined/TenSEAL). Included in the aims were to keep computation costs down by using a low-layer neural network."
   ]
  },
  {
   "cell_type": "code",
   "execution_count": 1,
   "id": "4ecb8da4",
   "metadata": {},
   "outputs": [],
   "source": [
    "n_estimators = 100\n",
    "train = True"
   ]
  },
  {
   "cell_type": "code",
   "execution_count": 2,
   "id": "b4b699df",
   "metadata": {},
   "outputs": [],
   "source": [
    "import wandb\n",
    "import xgboost as xgb\n",
    "from wandb.xgboost import WandbCallback"
   ]
  },
  {
   "cell_type": "code",
   "execution_count": 3,
   "id": "a0b734b3",
   "metadata": {},
   "outputs": [],
   "source": [
    "import sys\n",
    "\n",
    "from ppxgboost import BoosterParser as boostparser\n",
    "from ppxgboost import PPBooster as ppbooster\n",
    "from ppxgboost import PaillierAPI as paillier\n",
    "from ppxgboost.PPBooster import MetaData\n",
    "from ppxgboost.PPKey import PPBoostKey\n",
    "import sys\n",
    "import random\n",
    "import time\n",
    "import pandas as pd\n",
    "import numpy as np\n",
    "# import xgboost as xgb\n",
    "from xgboost import XGBClassifier\n",
    "from secrets import token_bytes\n",
    "from ope.pyope.ope import OPE\n",
    "\n",
    "\n",
    "import matplotlib.pyplot as plt\n",
    "import seaborn as sns\n",
    "from sklearn.model_selection import train_test_split\n",
    "from collections import Counter\n",
    "from sklearn import metrics\n",
    "import pickle"
   ]
  },
  {
   "cell_type": "markdown",
   "id": "b3c1e0e8",
   "metadata": {},
   "source": [
    "## Dataset\n",
    "\n",
    "The dataset used is the [Credit Card Fraud Detection](https://www.kaggle.com/mlg-ulb/creditcardfraud) dataset created by Machine Learning Group - ULB. It consists of 284,807 transactions, 492 of which are fraudulant. \n",
    "\n",
    "Each transaction has 30 pieces of information, and a Class of 0 for *valid* or 1 for *fraudulant*. All column names other than Time and Amount have been obfuscated for privacy. In our case, the dataset may not need to have obfuscated column names, as the network could potentially be trained on encrypted data."
   ]
  },
  {
   "cell_type": "code",
   "execution_count": 4,
   "id": "0b517ed7",
   "metadata": {},
   "outputs": [
    {
     "name": "stdout",
     "output_type": "stream",
     "text": [
      "   Time        V1        V2        V3        V4        V5        V6        V7  \\\n",
      "0   0.0 -1.359807 -0.072781  2.536347  1.378155 -0.338321  0.462388  0.239599   \n",
      "\n",
      "         V8        V9  ...       V21       V22       V23       V24       V25  \\\n",
      "0  0.098698  0.363787  ... -0.018307  0.277838 -0.110474  0.066928  0.128539   \n",
      "\n",
      "        V26       V27       V28  Amount  Class  \n",
      "0 -0.189115  0.133558 -0.021053  149.62      0  \n",
      "\n",
      "[1 rows x 31 columns]\n"
     ]
    }
   ],
   "source": [
    "# Show the first row of the dataset\n",
    "data = pd.read_csv('../data/creditcard.csv')\n",
    "print(data.head(1))"
   ]
  },
  {
   "cell_type": "markdown",
   "id": "08275263",
   "metadata": {},
   "source": [
    "The percentage of fraudulant transactions in the dataset is very low, which is something we may consider in the design of our network."
   ]
  },
  {
   "cell_type": "code",
   "execution_count": 5,
   "id": "e577c72c",
   "metadata": {},
   "outputs": [
    {
     "data": {
      "image/png": "[encoded data removed]",
      "text/plain": [
       "<Figure size 432x288 with 1 Axes>"
      ]
     },
     "metadata": {
      "needs_background": "light"
     },
     "output_type": "display_data"
    },
    {
     "name": "stdout",
     "output_type": "stream",
     "text": [
      "Percentage of fraudulant transactions: 0.17%\n"
     ]
    }
   ],
   "source": [
    "# The percentage of fraudulant transactions in the dataset is very low, which is something we may consider in the\n",
    "# design of our network.\n",
    "plt.hist(data['Class'], color='red')\n",
    "plt.xlabel('Class')\n",
    "plt.ylabel('Transaction')\n",
    "plt.title('Class Imbalance', fontsize=15)\n",
    "plt.show()\n",
    "pc_fraud = len(data.loc[data['Class'] == 1].values)/len(data.loc[data['Class'] == 0].values)\n",
    "print('Percentage of fraudulant transactions: {:.2f}%'.format(pc_fraud*100))"
   ]
  },
  {
   "cell_type": "markdown",
   "id": "63d06e05",
   "metadata": {},
   "source": [
    "The data is then preprocessed and split into a dataset for training the network and a dataset for testing it."
   ]
  },
  {
   "cell_type": "code",
   "execution_count": 7,
   "id": "172311e4",
   "metadata": {},
   "outputs": [
    {
     "name": "stdout",
     "output_type": "stream",
     "text": [
      "Distribution of each dataset:\n",
      "Train: Counter({0: 800, 1: 398})\n",
      "Test: Counter({0: 71108, 1: 94})\n"
     ]
    }
   ],
   "source": [
    "# Preprocessing the data by scaling into a [0,1] range and splitting into inputs x and outputs y\n",
    "x = data.drop('Class', axis=1)\n",
    "y = data['Class']\n",
    "\n",
    "# Splitting the data into a dataset for training the network and a dataset for testing it\n",
    "_, xtest, _, ytest = train_test_split(x, y, test_size=0.25, shuffle=False)\n",
    "xtrain, ytrain = undersample_training_set(x, y, 800)\n",
    "\n",
    "print('Distribution of each dataset:')\n",
    "print('Train: %s' % Counter(ytrain))\n",
    "print('Test: %s' % Counter(ytest))"
   ]
  },
  {
   "cell_type": "code",
   "execution_count": 8,
   "id": "54926f15",
   "metadata": {},
   "outputs": [],
   "source": [
    "sweep_config = {\n",
    "    \"method\": \"bayes\",\n",
    "    \"metric\": {\n",
    "      \"name\": \"auc_roc\",\n",
    "      \"goal\": \"maximize\"   \n",
    "    },\n",
    "    \"parameters\": {\n",
    "#         \"booster\": {\n",
    "#             \"values\": [\"gbtree\", \"gblinear\"]\n",
    "#         },\n",
    "        \"max_depth\": {\n",
    "            \"values\": [6, 9, 12]\n",
    "        },\n",
    "        \"learning_rate\": {\n",
    "            \"values\": [0.1, 0.2]\n",
    "        },\n",
    "        \"undersampling_num_negatives\": {\n",
    "            \"values\": [1000, 1500, 2000]\n",
    "        },\n",
    "        \"num_estimators\": {\n",
    "            \"values\": [50, 75, 100]\n",
    "        },\n",
    "    }\n",
    "}\n",
    "\n",
    "def report_metrics(model):\n",
    "    preds = model.predict(xgb.DMatrix(xtest))\n",
    "    average_precision = metrics.average_precision_score(ytest, preds)\n",
    "    auc_roc = metrics.roc_auc_score(ytest, preds)\n",
    "    preds[preds>=0.5] = 1.0\n",
    "    preds[preds<0.5] = 0.0\n",
    "    conf_matrix = metrics.confusion_matrix(ytest, preds)\n",
    "    wandb.log({\n",
    "        \"average_precision\": average_precision,\n",
    "        \"auc_roc\": auc_roc,\n",
    "        \"false_positives\": conf_matrix[0][1],\n",
    "        \"true_positives\": conf_matrix[1][1],\n",
    "    })\n",
    "    \n",
    "\n",
    "def train_xgb():\n",
    "    config_defaults = {\n",
    "        \"max_depth\": 6,\n",
    "        \"learning_rate\": 0.2,\n",
    "        \"undersampling_num_negatives\": 2000,\n",
    "        \"num_estimators\": 100,\n",
    "    }\n",
    "    \n",
    "    wandb.init(config=config_defaults, project=\"cc-he-xgboost\")\n",
    "    config = wandb.config\n",
    "\n",
    "    clf = xgb.XGBClassifier(booster=\"gbtree\", max_depth=config.max_depth,\n",
    "                        learning_rate=config.learning_rate,# subsample=config.subsample,\n",
    "                        num_estimators=config.num_estimators,\n",
    "                        tree_method='gpu_hist')\n",
    "    \n",
    "    xtrain, ytrain = undersample_training_set(x, y, config.undersampling_num_negatives)\n",
    "    clf.fit(xtrain, ytrain)\n",
    "    \n",
    "    model = clf.get_booster()\n",
    "    report_metrics(model)\n",
    "    \n",
    "    return model"
   ]
  },
  {
   "cell_type": "code",
   "execution_count": 9,
   "id": "4a21b9b6",
   "metadata": {},
   "outputs": [
    {
     "name": "stderr",
     "output_type": "stream",
     "text": [
      "Failed to detect the name of this notebook, you can set it manually with the WANDB_NOTEBOOK_NAME environment variable to enable code saving.\n",
      "\u001b[34m\u001b[1mwandb\u001b[0m: Currently logged in as: \u001b[33mnuggimane\u001b[0m (use `wandb login --relogin` to force relogin)\n"
     ]
    },
    {
     "data": {
      "text/html": [
       "Tracking run with wandb version 0.12.11"
      ],
      "text/plain": [
       "<IPython.core.display.HTML object>"
      ]
     },
     "metadata": {},
     "output_type": "display_data"
    },
    {
     "data": {
      "text/html": [
       "Run data is saved locally in <code>/home/nugentd1@ad.mee.tcd.ie/nuggi/fyp/cc-he-poc/src/wandb/run-20220322_035737-2nujn00o</code>"
      ],
      "text/plain": [
       "<IPython.core.display.HTML object>"
      ]
     },
     "metadata": {},
     "output_type": "display_data"
    },
    {
     "data": {
      "text/html": [
       "Syncing run <strong><a href=\"https://wandb.ai/nuggimane/cc-he-xgboost/runs/2nujn00o\" target=\"_blank\">different-microwave-109</a></strong> to <a href=\"https://wandb.ai/nuggimane/cc-he-xgboost\" target=\"_blank\">Weights & Biases</a> (<a href=\"https://wandb.me/run\" target=\"_blank\">docs</a>)<br/>"
      ],
      "text/plain": [
       "<IPython.core.display.HTML object>"
      ]
     },
     "metadata": {},
     "output_type": "display_data"
    },
    {
     "name": "stdout",
     "output_type": "stream",
     "text": [
      "{'max_depth': 6, 'learning_rate': 0.2, 'undersampling_num_negatives': 2000, 'num_estimators': 100}\n",
      "[03:57:39] WARNING: ../src/learner.cc:541: \n",
      "Parameters: { num_estimators } might not be used.\n",
      "\n",
      "  This may not be accurate due to some parameters are only used in language bindings but\n",
      "  passed down to XGBoost core.  Or some parameters are not used but slip through this\n",
      "  verification. Please open an issue if you find above cases.\n",
      "\n",
      "\n"
     ]
    },
    {
     "name": "stderr",
     "output_type": "stream",
     "text": [
      "/home/nugentd1@ad.mee.tcd.ie/nuggi/fyp/cc-he-poc/src/env/lib/python3.8/site-packages/xgboost/sklearn.py:888: UserWarning: The use of label encoder in XGBClassifier is deprecated and will be removed in a future release. To remove this warning, do the following: 1) Pass option use_label_encoder=False when constructing XGBClassifier object; and 2) Encode your labels (y) as integers starting with 0, i.e. 0, 1, 2, ..., [num_class - 1].\n",
      "  warnings.warn(label_encoder_deprecation_msg, UserWarning)\n"
     ]
    },
    {
     "name": "stdout",
     "output_type": "stream",
     "text": [
      "[03:57:39] WARNING: ../src/learner.cc:1061: Starting in XGBoost 1.3.0, the default evaluation metric used with the objective 'binary:logistic' was changed from 'error' to 'logloss'. Explicitly set eval_metric if you'd like to restore the old behavior.\n"
     ]
    }
   ],
   "source": [
    "model_filename = 'xgb-uml-clf-{}.txt'.format(n_estimators)\n",
    "if train:\n",
    "#     sweep_id = wandb.sweep(sweep_config, project=\"cc-he-xgboost\")\n",
    "#     wandb.agent(sweep_id, train_xgb, count=50)\n",
    "    model = train_xgb()\n",
    "#     pickle.dump(model, open(model_filename, \"wb\" ))\n",
    "else:\n",
    "    model = pickle.load(open(model_filename, \"rb\"))"
   ]
  },
  {
   "cell_type": "markdown",
   "id": "4938549d",
   "metadata": {},
   "source": [
    "## Evaluation\n",
    "\n",
    "To validate that our Plaintext Model and our HE Model output the same values, we will evaluate a small subset of our test set with each network. Evaluating the full test set with our HE Model would take a lot of time, so we can leave the evaluation of the full test set to the Plaintext Model."
   ]
  },
  {
   "cell_type": "code",
   "execution_count": 10,
   "id": "a754c01f",
   "metadata": {},
   "outputs": [],
   "source": [
    "from sklearn import metrics\n",
    "def evaluate_predictions(preds, truths, threshold=0.5):\n",
    "    print('Number of estimators:', n_estimators)\n",
    "    print('AUPRC score: {}'.format(metrics.average_precision_score(truths, preds)))\n",
    "    print('AUROC score: {}'.format(metrics.roc_auc_score(truths, preds)))\n",
    "    preds[preds>=threshold] = 1.0\n",
    "    preds[preds<threshold] = 0.0\n",
    "    conf_matrix = metrics.confusion_matrix(truths, preds)\n",
    "    plt.figure(figsize=(5, 5))\n",
    "    labels = [\"Valid\", \"Fraud\"]\n",
    "    sns.heatmap(conf_matrix, xticklabels=labels, yticklabels=labels, annot=True, fmt=\"d\");\n",
    "    plt.title(\"Confusion matrix\")\n",
    "    plt.ylabel('True class')\n",
    "    plt.xlabel('Predicted class')\n",
    "    print('Accuracy score: {}'.format(metrics.accuracy_score(truths, preds)))\n",
    "    print(metrics.classification_report(truths, preds))\n",
    "    print(metrics.precision_score(truths, preds))"
   ]
  },
  {
   "cell_type": "code",
   "execution_count": 11,
   "id": "db9e77d9",
   "metadata": {},
   "outputs": [
    {
     "name": "stdout",
     "output_type": "stream",
     "text": [
      "CPU times: user 369 ms, sys: 0 ns, total: 369 ms\n",
      "Wall time: 55.4 ms\n",
      "Number of estimators: 100\n",
      "AUPRC score: 0.775688830364714\n",
      "AUROC score: 0.9806159405112271\n",
      "Accuracy score: 0.9972753574337799\n",
      "              precision    recall  f1-score   support\n",
      "\n",
      "           0       1.00      1.00      1.00     71108\n",
      "           1       0.30      0.80      0.44        94\n",
      "\n",
      "    accuracy                           1.00     71202\n",
      "   macro avg       0.65      0.90      0.72     71202\n",
      "weighted avg       1.00      1.00      1.00     71202\n",
      "\n",
      "0.3\n"
     ]
    },
    {
     "data": {
      "image/png": "[encoded data removed]",
      "text/plain": [
       "<Figure size 360x360 with 2 Axes>"
      ]
     },
     "metadata": {
      "needs_background": "light"
     },
     "output_type": "display_data"
    }
   ],
   "source": [
    "# Evaluation of the full test set with the Plaintext Model\n",
    "%time results = model.predict(xgb.DMatrix(xtest))\n",
    "evaluate_predictions(results, ytest)"
   ]
  },
  {
   "cell_type": "code",
   "execution_count": 12,
   "id": "c0f38397",
   "metadata": {},
   "outputs": [],
   "source": [
    "# 1. parsing to internal tree data structure, and output feature set\n",
    "min_max = boostparser.training_dataset_parser(x)\n",
    "enc_tree, feature_set, min_max = boostparser.model_to_trees(model, min_max)\n",
    "\n",
    "# 2. Set up encryption materials.\n",
    "prf_key = token_bytes(16)\n",
    "public_key, private_key = paillier.he_key_gen()\n",
    "encrypter = OPE(token_bytes(16))\n",
    "ppBoostKey = PPBoostKey(public_key, prf_key, encrypter)"
   ]
  },
  {
   "cell_type": "code",
   "execution_count": 13,
   "id": "4f9869e1",
   "metadata": {},
   "outputs": [],
   "source": [
    "# helpers for paralellising the encryption of tree nodes\n",
    "from joblib import Parallel, delayed\n",
    "import itertools\n",
    "def chunk_arr(arr, num_chunks):\n",
    "    chunk_size = len(arr) // num_chunks\n",
    "    return [(arr[i:i+chunk_size]) for i in range(0,len(arr),chunk_size)]\n",
    "    \n",
    "def dechunk_arr(chunks):\n",
    "    return list(itertools.chain.from_iterable(chunks))"
   ]
  },
  {
   "cell_type": "code",
   "execution_count": 14,
   "id": "c315f79e",
   "metadata": {},
   "outputs": [
    {
     "name": "stdout",
     "output_type": "stream",
     "text": [
      "CPU times: user 46.5 ms, sys: 90.8 ms, total: 137 ms\n",
      "Wall time: 24.8 s\n"
     ]
    }
   ],
   "source": [
    "%%time\n",
    "# 3. process the tree into enc_tree\n",
    "output_chunks = Parallel(n_jobs=8)(delayed(ppbooster.enc_xgboost_model)(ppBoostKey, chunk, MetaData(min_max)) for chunk in chunk_arr(enc_tree, 8))\n",
    "enc_tree = dechunk_arr(output_chunks)"
   ]
  },
  {
   "cell_type": "code",
   "execution_count": 15,
   "id": "eea954ac",
   "metadata": {},
   "outputs": [],
   "source": [
    "# pickle.dump(enc_tree, open('encrypted-'+model_filename[:-4]+'.pt', \"wb\" ))"
   ]
  },
  {
   "cell_type": "code",
   "execution_count": 16,
   "id": "15c7593d",
   "metadata": {},
   "outputs": [],
   "source": [
    "# pickle.dump(prf_key, open('prf_key.pt', \"wb\" ))\n",
    "# pickle.dump(encrypter, open('encrypter.pt', \"wb\" ))\n",
    "# pickle.dump(min_max, open('min_max.pt', \"wb\" ))\n",
    "# pickle.dump(private_key, open('private_key.pt', \"wb\" ))"
   ]
  },
  {
   "cell_type": "code",
   "execution_count": 17,
   "id": "10f57b5d",
   "metadata": {
    "scrolled": true
   },
   "outputs": [
    {
     "name": "stdout",
     "output_type": "stream",
     "text": [
      "CPU times: user 121 ms, sys: 11.7 ms, total: 132 ms\n",
      "Wall time: 18.9 ms\n",
      "CPU times: user 231 ms, sys: 0 ns, total: 231 ms\n",
      "Wall time: 194 ms\n",
      "CPU times: user 15.1 ms, sys: 0 ns, total: 15.1 ms\n",
      "Wall time: 15 ms\n"
     ]
    },
    {
     "data": {
      "text/plain": [
       "array([<phe.paillier.EncryptedNumber object at 0x7f842d5523d0>],\n",
       "      dtype=object)"
      ]
     },
     "execution_count": 17,
     "metadata": {},
     "output_type": "execute_result"
    }
   ],
   "source": [
    "# Time difference between Plaintext Model and HE Model\n",
    "sample = xgb.DMatrix(xtest.head(1))\n",
    "%time model.predict(sample)\n",
    "encrypted_xtest = xtest.head(1).copy()\n",
    "%time ppbooster.enc_input_vector(prf_key, encrypter, feature_set, encrypted_xtest, MetaData(min_max))\n",
    "%time ppbooster.predict_binary(enc_tree, encrypted_xtest)"
   ]
  },
  {
   "cell_type": "code",
   "execution_count": 18,
   "id": "38e73a68",
   "metadata": {},
   "outputs": [],
   "source": [
    "# We'll take the indices of all the fraudulant transactions in the test set\n",
    "fraud_test_idxs = ytest==1\n",
    "# And combine them with an extra 100 transactions\n",
    "fraud_test_idxs[:100] = True"
   ]
  },
  {
   "cell_type": "markdown",
   "id": "ebc026c9",
   "metadata": {},
   "source": [
    "Evaluation of the sample with the Plaintext Model"
   ]
  },
  {
   "cell_type": "code",
   "execution_count": 19,
   "id": "20a66fe7",
   "metadata": {},
   "outputs": [
    {
     "name": "stdout",
     "output_type": "stream",
     "text": [
      "CPU times: user 1.9 ms, sys: 0 ns, total: 1.9 ms\n",
      "Wall time: 1.72 ms\n",
      "Number of estimators: 100\n",
      "AUPRC score: 0.9754358527578082\n",
      "AUROC score: 0.9717021276595745\n",
      "Accuracy score: 0.8969072164948454\n",
      "              precision    recall  f1-score   support\n",
      "\n",
      "           0       0.84      0.99      0.91       100\n",
      "           1       0.99      0.80      0.88        94\n",
      "\n",
      "    accuracy                           0.90       194\n",
      "   macro avg       0.91      0.89      0.90       194\n",
      "weighted avg       0.91      0.90      0.90       194\n",
      "\n",
      "0.9868421052631579\n"
     ]
    },
    {
     "data": {
      "image/png": "[encoded data removed]",
      "text/plain": [
       "<Figure size 360x360 with 2 Axes>"
      ]
     },
     "metadata": {
      "needs_background": "light"
     },
     "output_type": "display_data"
    }
   ],
   "source": [
    "%time results = model.predict(xgb.DMatrix(xtest[fraud_test_idxs]))\n",
    "evaluate_predictions(results, ytest[fraud_test_idxs])"
   ]
  },
  {
   "cell_type": "markdown",
   "id": "8d62cf93",
   "metadata": {},
   "source": [
    "The most important intuitive metric shown above is the *Confusion matrix* which shows in this case that all 100 valid transactions were successfully labelled as valid, and 79 of the 101 fraudulant transactions were successfully labelled as fraudulant.\n",
    "\n",
    "Next the sample is evaluated with the HE Model"
   ]
  },
  {
   "cell_type": "code",
   "execution_count": 20,
   "id": "90fa8362",
   "metadata": {},
   "outputs": [
    {
     "name": "stdout",
     "output_type": "stream",
     "text": [
      "CPU times: user 9.28 ms, sys: 9 ms, total: 18.3 ms\n",
      "Wall time: 7.23 s\n",
      "CPU times: user 3.25 s, sys: 579 µs, total: 3.25 s\n",
      "Wall time: 3.25 s\n"
     ]
    }
   ],
   "source": [
    "# 5. privacy-preserving evaluation.\n",
    "encrypted_xtest = xtest[fraud_test_idxs].copy()\n",
    "%time encrypted_xtest = Parallel(n_jobs=8)(delayed(ppbooster.enc_input_vector)(prf_key, encrypter, feature_set, chunk, MetaData(min_max)) for chunk in chunk_arr(encrypted_xtest, 8))\n",
    "encrypted_xtest = pd.concat(encrypted_xtest)\n",
    "%time results_encrypted = ppbooster.predict_binary(enc_tree, encrypted_xtest)"
   ]
  },
  {
   "cell_type": "code",
   "execution_count": 21,
   "id": "cb8d4198",
   "metadata": {
    "scrolled": true
   },
   "outputs": [
    {
     "name": "stdout",
     "output_type": "stream",
     "text": [
      "Number of estimators: 100\n",
      "AUPRC score: 0.9754358527578082\n",
      "AUROC score: 0.9717021276595745\n",
      "Accuracy score: 0.8969072164948454\n",
      "              precision    recall  f1-score   support\n",
      "\n",
      "           0       0.84      0.99      0.91       100\n",
      "           1       0.99      0.80      0.88        94\n",
      "\n",
      "    accuracy                           0.90       194\n",
      "   macro avg       0.91      0.89      0.90       194\n",
      "weighted avg       0.91      0.90      0.90       194\n",
      "\n",
      "0.9868421052631579\n"
     ]
    },
    {
     "data": {
      "image/png": "[encoded data removed]",
      "text/plain": [
       "<Figure size 360x360 with 2 Axes>"
      ]
     },
     "metadata": {
      "needs_background": "light"
     },
     "output_type": "display_data"
    }
   ],
   "source": [
    "# 6. decryption\n",
    "results_decrypted = []\n",
    "for c in results_encrypted:\n",
    "    results_decrypted.append(paillier.decrypt(private_key, c))\n",
    "results_decrypted = np.array(results_decrypted).squeeze()\n",
    "\n",
    "evaluate_predictions(results_decrypted, ytest[fraud_test_idxs])"
   ]
  },
  {
   "cell_type": "markdown",
   "id": "5c2fe080",
   "metadata": {},
   "source": [
    "The same results are found. This demonstrates that the Plaintext Model and teh HE Model both output the same values.\n",
    "\n",
    "Finally, the full test set is evaluated using the Plaintext Model. This will demonstrate the performance of the weights used in both models."
   ]
  },
  {
   "cell_type": "code",
   "execution_count": 22,
   "id": "6327bee0",
   "metadata": {},
   "outputs": [
    {
     "name": "stdout",
     "output_type": "stream",
     "text": [
      "CPU times: user 332 ms, sys: 17.8 ms, total: 350 ms\n",
      "Wall time: 56.6 ms\n",
      "Number of estimators: 100\n",
      "AUPRC score: 0.775688830364714\n",
      "AUROC score: 0.9806159405112271\n",
      "Accuracy score: 0.9972753574337799\n",
      "              precision    recall  f1-score   support\n",
      "\n",
      "           0       1.00      1.00      1.00     71108\n",
      "           1       0.30      0.80      0.44        94\n",
      "\n",
      "    accuracy                           1.00     71202\n",
      "   macro avg       0.65      0.90      0.72     71202\n",
      "weighted avg       1.00      1.00      1.00     71202\n",
      "\n",
      "0.3\n"
     ]
    },
    {
     "data": {
      "image/png": "[encoded data removed]",
      "text/plain": [
       "<Figure size 360x360 with 2 Axes>"
      ]
     },
     "metadata": {
      "needs_background": "light"
     },
     "output_type": "display_data"
    },
    {
     "name": "stderr",
     "output_type": "stream",
     "text": [
      "wandb: Network error (ReadTimeout), entering retry loop.\n",
      "wandb: Network error (ReadTimeout), entering retry loop.\n",
      "wandb: Network error (ReadTimeout), entering retry loop.\n",
      "wandb: Network error (ReadTimeout), entering retry loop.\n",
      "wandb: Network error (ReadTimeout), entering retry loop.\n"
     ]
    }
   ],
   "source": [
    "# Evaluation of the full test set with the Plaintext Model\n",
    "%time results = model.predict(xgb.DMatrix(xtest))\n",
    "evaluate_predictions(results, ytest)"
   ]
  },
  {
   "cell_type": "markdown",
   "id": "2ffa9ed7",
   "metadata": {},
   "source": [
    "As shown, 56847 of the 56861 valid transactions are successfully labelled as valid, and 79 of the 101 fraudulant transactions are successfully labelled as fraudulant.\n",
    "\n",
    "Although these results are not perfect, it concludes the demonstration of how a model can be trained using PyTorch to identify fraudulant CC transactions and then converted into a model that can operate on encrypted inputs using HE."
   ]
  },
  {
   "cell_type": "markdown",
   "id": "f863f81c",
   "metadata": {},
   "source": [
    "Some functions for training and evaluation were adapted from this [Kaggle notebook](https://www.kaggle.com/rinabuoy/credit-card-fraud-detection-with-pytorch/notebook) on CC fraud detection.\n",
    "\n",
    "The HE network is adapted from this official [TenSEAL tutorial](https://github.com/OpenMined/courses/blob/foundations-of-private-computation/homomorphic-encryption/Evaluation%20on%20Encrypted%20Data%20using%20TenSEAL%20-%20Solution.ipynb)"
   ]
  }
 ],
 "metadata": {
  "kernelspec": {
   "display_name": "fyp2",
   "language": "python",
   "name": "fyp2"
  },
  "language_info": {
   "codemirror_mode": {
    "name": "ipython",
    "version": 3
   },
   "file_extension": ".py",
   "mimetype": "text/x-python",
   "name": "python",
   "nbconvert_exporter": "python",
   "pygments_lexer": "ipython3",
   "version": "3.8.10"
  }
 },
 "nbformat": 4,
 "nbformat_minor": 5
}
