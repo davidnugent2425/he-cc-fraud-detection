{
 "cells": [
  {
   "cell_type": "markdown",
   "id": "35c6dfba",
   "metadata": {},
   "source": [
    "# Credit Card Fraud Detection using Homomorphic Encryption Neural Network\n",
    "\n",
    "This notebook is a proof of concept of running a credit card (CC) fraud detection neural network on encrypted data. A plaintext neural network is first trained using [PyTorch](https://pytorch.org/), and then a private network uses these weights to perform homomorphic encryption (HE) operations with [TenSEAL](https://github.com/OpenMined/TenSEAL). Included in the aims were to keep computation costs down by using a low-layer neural network."
   ]
  },
  {
   "cell_type": "code",
   "execution_count": 38,
   "id": "ec7b5b2b",
   "metadata": {
    "scrolled": true
   },
   "outputs": [],
   "source": [
    "# Imports\n",
    "import numpy as np\n",
    "import pandas as pd\n",
    "import matplotlib.pyplot as plt\n",
    "import seaborn as sns\n",
    "from sklearn.model_selection import train_test_split\n",
    "from sklearn.preprocessing import MinMaxScaler\n",
    "from collections import Counter\n",
    "import torch\n",
    "from sklearn import metrics\n",
    "import tenseal as ts\n",
    "import pickle\n",
    "np.random.seed(0)"
   ]
  },
  {
   "cell_type": "markdown",
   "id": "b3c1e0e8",
   "metadata": {},
   "source": [
    "## Dataset\n",
    "\n",
    "The dataset used is the [Credit Card Fraud Detection](https://www.kaggle.com/mlg-ulb/creditcardfraud) dataset created by Machine Learning Group - ULB. It consists of 284,807 transactions, 492 of which are fraudulant. \n",
    "\n",
    "Each transaction has 30 pieces of information, and a Class of 0 for *valid* or 1 for *fraudulant*. All column names other than Time and Amount have been obfuscated for privacy. In our case, the dataset may not need to have obfuscated column names, as the network could potentially be trained on encrypted data."
   ]
  },
  {
   "cell_type": "code",
   "execution_count": 39,
   "id": "0b517ed7",
   "metadata": {},
   "outputs": [
    {
     "name": "stdout",
     "output_type": "stream",
     "text": [
      "   Time        V1        V2        V3        V4        V5        V6        V7  \\\n",
      "0   0.0 -1.359807 -0.072781  2.536347  1.378155 -0.338321  0.462388  0.239599   \n",
      "\n",
      "         V8        V9  ...       V21       V22       V23       V24       V25  \\\n",
      "0  0.098698  0.363787  ... -0.018307  0.277838 -0.110474  0.066928  0.128539   \n",
      "\n",
      "        V26       V27       V28  Amount  Class  \n",
      "0 -0.189115  0.133558 -0.021053  149.62      0  \n",
      "\n",
      "[1 rows x 31 columns]\n"
     ]
    }
   ],
   "source": [
    "# Show the first row of the dataset\n",
    "data = pd.read_csv('../data/creditcard.csv')\n",
    "print(data.head(1))"
   ]
  },
  {
   "cell_type": "markdown",
   "id": "08275263",
   "metadata": {},
   "source": [
    "The percentage of fraudulant transactions in the dataset is very low, which is something we may consider in the design of our network."
   ]
  },
  {
   "cell_type": "code",
   "execution_count": 40,
   "id": "e577c72c",
   "metadata": {},
   "outputs": [
    {
     "data": {
      "image/png": "[encoded data removed]",
      "text/plain": [
       "<Figure size 432x288 with 1 Axes>"
      ]
     },
     "metadata": {
      "needs_background": "light"
     },
     "output_type": "display_data"
    },
    {
     "name": "stdout",
     "output_type": "stream",
     "text": [
      "Percentage of fraudulant transactions: 0.17%\n"
     ]
    }
   ],
   "source": [
    "# The percentage of fraudulant transactions in the dataset is very low, which is something we may consider in the\n",
    "# design of our network.\n",
    "plt.hist(data['Class'], color='red')\n",
    "plt.xlabel('Class')\n",
    "plt.ylabel('Transaction')\n",
    "plt.title('Class Imbalance', fontsize=15)\n",
    "plt.show()\n",
    "pc_fraud = len(data.loc[data['Class'] == 1].values)/len(data.loc[data['Class'] == 0].values)\n",
    "print('Percentage of fraudulant transactions: {:.2f}%'.format(pc_fraud*100))"
   ]
  },
  {
   "cell_type": "markdown",
   "id": "63d06e05",
   "metadata": {},
   "source": [
    "The data is then preprocessed and split into a dataset for training the network and a dataset for testing it."
   ]
  },
  {
   "cell_type": "code",
   "execution_count": 41,
   "id": "172311e4",
   "metadata": {},
   "outputs": [],
   "source": [
    "# # Preprocessing the data by scaling into a [0,1] range and splitting into inputs x and outputs y\n",
    "# x = data.drop('Class', axis=1).values\n",
    "# y = data['Class'].values\n",
    "# scaler = MinMaxScaler()\n",
    "# scaler.fit(x)\n",
    "# x = scaler.transform(x)\n",
    "\n",
    "# # Splitting the data into a dataset for training the network and a dataset for testing it\n",
    "# xtrain, xtest, ytrain, ytest = train_test_split(x, y, test_size=0.25, shuffle=False)\n",
    "\n",
    "# print('Distribution of each dataset:')\n",
    "# print('Train: %s' % Counter(ytrain))\n",
    "# print('Test: %s' % Counter(ytest))"
   ]
  },
  {
   "cell_type": "code",
   "execution_count": 42,
   "id": "44156781",
   "metadata": {},
   "outputs": [],
   "source": [
    "x = data.drop('Class', axis=1)\n",
    "y = data['Class']\n",
    "xtrain, xtest, ytrain, ytest = train_test_split(x, y, test_size=0.25, shuffle=False)"
   ]
  },
  {
   "cell_type": "code",
   "execution_count": 43,
   "id": "015cc231",
   "metadata": {},
   "outputs": [
    {
     "name": "stdout",
     "output_type": "stream",
     "text": [
      "Distribution of each dataset:\n",
      "Train: Counter({1: 398, 0: 398})\n",
      "Test: Counter({0: 71108, 1: 94})\n"
     ]
    }
   ],
   "source": [
    "train_fraud_indices = np.array(ytrain[ytrain==1].index)\n",
    "train_normal_indices = np.array(ytrain[ytrain==0].index)\n",
    "train_random_normal_indices = np.random.choice(train_normal_indices, len(train_fraud_indices), replace = False)\n",
    "train_indices = np.concatenate([train_fraud_indices, train_random_normal_indices])\n",
    "xtrain = xtrain.iloc[train_indices, :].values\n",
    "ytrain = ytrain.iloc[train_indices].values\n",
    "xtest = xtest.values\n",
    "ytest = ytest.values\n",
    "\n",
    "scaler = MinMaxScaler()\n",
    "scaler.fit(x.values)\n",
    "xtrain = scaler.transform(xtrain)\n",
    "xtest = scaler.transform(xtest)\n",
    "\n",
    "print('Distribution of each dataset:')\n",
    "print('Train: %s' % Counter(ytrain))\n",
    "print('Test: %s' % Counter(ytest))"
   ]
  },
  {
   "cell_type": "code",
   "execution_count": 44,
   "id": "a586e9a4",
   "metadata": {},
   "outputs": [],
   "source": [
    "# Dataloaders setup, batch size of 100\n",
    "train_ds = torch.utils.data.TensorDataset(torch.tensor(xtrain).float(), torch.tensor(ytrain).float())\n",
    "test_ds = torch.utils.data.TensorDataset(torch.tensor(xtest).float(), torch.tensor(ytest).float())\n",
    "\n",
    "train_dl = torch.utils.data.DataLoader(train_ds, batch_size=100)\n",
    "test_dl = torch.utils.data.DataLoader(test_ds, batch_size=100)"
   ]
  },
  {
   "cell_type": "markdown",
   "id": "fb374438",
   "metadata": {},
   "source": [
    "## Plaintext PyTorch model for training\n",
    "\n",
    "A simple feedforward classifier neural network is trained on the training set using PyTorch, so that we can find the optimum weights to use in our HE Model. This is referred to as the *Plaintext Model*. Other options for neural networks include autoencoders. Out of all the low-layer networks found online trained on this dataset, a simple feedforward classifier seemed to perform best.\n",
    "\n",
    "**Network shape:**\n",
    "* input size is (1, 30)\n",
    "* hidden linear layer of size (30, 15)\n",
    "* output linear layer of size (15, 1)\n",
    "* output size is (1, 1)"
   ]
  },
  {
   "cell_type": "code",
   "execution_count": 45,
   "id": "7ceeeb53",
   "metadata": {},
   "outputs": [],
   "source": [
    "# Plaintext Model\n",
    "class Classifier(torch.nn.Module):\n",
    "    def __init__(self):\n",
    "        super().__init__()\n",
    "        self.hidden_layer = torch.nn.Linear(30, 15)\n",
    "        self.output_layer = torch.nn.Linear(15, 1)\n",
    "\n",
    "    def forward(self, x, show=False):\n",
    "        self.show = show\n",
    "        self.debug_output('Input', x)\n",
    "        y = self.hidden_layer(x)\n",
    "        self.debug_output('Hidden Layer', y)\n",
    "        y = y * y\n",
    "        self.debug_output('Activation', y)\n",
    "        y = self.output_layer(y)\n",
    "        self.debug_output('Output Layer', y)\n",
    "        return y.squeeze()\n",
    "    \n",
    "    def debug_output(self, msg, vec):\n",
    "        if self.show:\n",
    "            print(msg)\n",
    "            print(vec)"
   ]
  },
  {
   "cell_type": "code",
   "execution_count": 46,
   "id": "fdf8870f",
   "metadata": {},
   "outputs": [],
   "source": [
    "# Training functions\n",
    "def train(epochs, model, loss_func, opt, train_dl, valid_dl):\n",
    "    for epoch in range(epochs):\n",
    "        model.train()\n",
    "        for xb, yb in train_dl:\n",
    "            loss_batch(model, loss_func, xb, yb, opt)\n",
    "\n",
    "        model.eval()\n",
    "        with torch.no_grad():\n",
    "            losses, nums = zip(\n",
    "                *[loss_batch(model, loss_func, xb, yb) for xb, yb in valid_dl]\n",
    "            )\n",
    "        val_loss = np.sum(np.multiply(losses, nums)) / np.sum(nums)\n",
    "\n",
    "        print(epoch, val_loss)\n",
    "\n",
    "def loss_batch(model, loss_func, xb, yb, opt=None):\n",
    "    loss = loss_func(model(xb), yb)\n",
    "\n",
    "    if opt is not None:\n",
    "        loss.backward()\n",
    "        opt.step()\n",
    "        opt.zero_grad()\n",
    "\n",
    "    return loss.item(), len(xb)"
   ]
  },
  {
   "cell_type": "code",
   "execution_count": 47,
   "id": "b441e609",
   "metadata": {},
   "outputs": [],
   "source": [
    "# Plaintext Model\n",
    "model = Classifier()"
   ]
  },
  {
   "cell_type": "markdown",
   "id": "257f3bf5",
   "metadata": {},
   "source": [
    "The Plaintext Model is trained for 100 epochs on the training set. Once training has been completed once, saved model weights can be loaded."
   ]
  },
  {
   "cell_type": "code",
   "execution_count": 48,
   "id": "9e99d04a",
   "metadata": {},
   "outputs": [
    {
     "name": "stdout",
     "output_type": "stream",
     "text": [
      "0 0.718076841479148\n",
      "1 0.801277674246342\n",
      "2 0.8948509760416745\n",
      "3 1.0036797513620515\n",
      "4 1.1361543068018278\n",
      "5 1.2952315777942862\n",
      "6 1.4670823752680862\n",
      "7 1.617018222065475\n",
      "8 1.7099550430876684\n",
      "9 1.7393889723860518\n",
      "10 1.7273302261810826\n",
      "11 1.7010386706583922\n",
      "12 1.6773576356196638\n",
      "13 1.6618656792308115\n",
      "14 1.6537307739954297\n",
      "15 1.6499330494625575\n",
      "16 1.6475905222804494\n",
      "17 1.6448503813279225\n",
      "18 1.640936859457457\n",
      "19 1.6358109274585844\n",
      "20 1.6297653498319704\n",
      "21 1.623128720004352\n",
      "22 1.6161242332127934\n",
      "23 1.6088458928849998\n",
      "24 1.6012949064566089\n",
      "25 1.5934289570876157\n",
      "26 1.585199678209718\n",
      "27 1.5765708066825066\n",
      "28 1.5675222156844826\n",
      "29 1.558045493542172\n",
      "30 1.5481376691881297\n",
      "31 1.5377951885742376\n",
      "32 1.5270125738861406\n",
      "33 1.5157803551360016\n",
      "34 1.5040862301099749\n",
      "35 1.491915699243646\n",
      "36 1.4792522638923167\n",
      "37 1.466077148524239\n",
      "38 1.4523699974123707\n",
      "39 1.4381076696699167\n",
      "40 1.4232645795832912\n",
      "41 1.4078126357166336\n",
      "42 1.39172117157815\n",
      "43 1.3749574848863604\n",
      "44 1.3574880178160675\n",
      "45 1.339278064320983\n",
      "46 1.320294171386728\n",
      "47 1.300505553322265\n",
      "48 1.2798859564120413\n",
      "49 1.2584162684579348\n",
      "50 1.2360878745604325\n",
      "51 1.2129049490905908\n",
      "52 1.1888881600046086\n",
      "53 1.1640774322853293\n",
      "54 1.1385331896094035\n",
      "55 1.112337811623178\n",
      "56 1.085594162268336\n",
      "57 1.0584238240505945\n",
      "58 1.030962168358373\n",
      "59 1.003353187074916\n",
      "60 0.9757448746807732\n",
      "61 0.948281978255614\n",
      "62 0.9211026386566261\n",
      "63 0.8943342934873365\n",
      "64 0.8680911059962347\n",
      "65 0.8424720391105833\n",
      "66 0.8175608084287601\n",
      "67 0.7934253301544406\n",
      "68 0.7701190072232252\n",
      "69 0.7476802369988449\n",
      "70 0.726134337920767\n",
      "71 0.7054958045608204\n",
      "72 0.6857688638126679\n",
      "73 0.6669486880700899\n",
      "74 0.6490227714160437\n",
      "75 0.6319736116927165\n",
      "76 0.6157778067045147\n",
      "77 0.6004089344998048\n",
      "78 0.5858375284264006\n",
      "79 0.572031532794598\n",
      "80 0.5589588615272236\n",
      "81 0.5465848096394579\n",
      "82 0.5348767144539855\n",
      "83 0.5238004658755344\n",
      "84 0.5133219938499733\n",
      "85 0.5034106001636693\n",
      "86 0.4940329995578181\n",
      "87 0.48516051799091564\n",
      "88 0.4767626149092312\n",
      "89 0.4688123251955776\n",
      "90 0.46128256183632144\n",
      "91 0.45414833671132326\n",
      "92 0.4473851292556111\n",
      "93 0.4409714469326764\n",
      "94 0.43488522154679277\n",
      "95 0.42910603791528035\n",
      "96 0.423615864008244\n",
      "97 0.41839675784650127\n",
      "98 0.4134317821259077\n",
      "99 0.40870562038817826\n"
     ]
    }
   ],
   "source": [
    "# Training (commented out once training is done and model weights are saved)\n",
    "pos_weight = torch.tensor([5])\n",
    "opt = torch.optim.SGD(model.parameters(), lr=0.001, momentum=0.9)\n",
    "loss_func = torch.nn.BCEWithLogitsLoss(pos_weight=pos_weight)\n",
    "n_epoch = 100\n",
    "\n",
    "train(n_epoch,model,loss_func,opt,train_dl,test_dl)\n",
    "torch.save(model.hidden_layer, './nn-hidden-layer.pt')\n",
    "torch.save(model.output_layer, './nn-output-layer.pt')"
   ]
  },
  {
   "cell_type": "code",
   "execution_count": 49,
   "id": "14630fc9",
   "metadata": {},
   "outputs": [],
   "source": [
    "# model.hidden_layer = torch.load('./data/fhe-compatible-model-hidden-layer.pt')\n",
    "# model.output_layer = torch.load('./data/fhe-compatible-model-output-layer.pt')"
   ]
  },
  {
   "cell_type": "markdown",
   "id": "41379bfb",
   "metadata": {},
   "source": [
    "An example of one of the datapoints in the test set passing through the Plaintext Model is now shown."
   ]
  },
  {
   "cell_type": "code",
   "execution_count": 50,
   "id": "85e0feb0",
   "metadata": {},
   "outputs": [
    {
     "name": "stdout",
     "output_type": "stream",
     "text": [
      "Input\n",
      "tensor([0.8063, 0.9154, 0.7630, 0.8138, 0.2895, 0.7808, 0.2420, 0.2744, 0.7771,\n",
      "        0.4744, 0.4887, 0.2982, 0.6565, 0.3652, 0.5412, 0.4426, 0.4509, 0.8028,\n",
      "        0.7513, 0.6244, 0.5711, 0.5543, 0.5255, 0.6787, 0.3339, 0.6132, 0.3737,\n",
      "        0.4165, 0.3197, 0.0016])\n",
      "Hidden Layer\n",
      "tensor([ 0.0109, -0.1169, -0.4723,  0.2357, -0.4076,  1.2123, -1.7473,  2.3959,\n",
      "         1.3642,  0.4212,  0.5750, -0.9817,  0.2174, -0.6541, -0.0254],\n",
      "       grad_fn=<AddBackward0>)\n",
      "Activation\n",
      "tensor([1.1795e-04, 1.3677e-02, 2.2303e-01, 5.5568e-02, 1.6614e-01, 1.4697e+00,\n",
      "        3.0529e+00, 5.7404e+00, 1.8610e+00, 1.7743e-01, 3.3061e-01, 9.6374e-01,\n",
      "        4.7243e-02, 4.2785e-01, 6.4343e-04], grad_fn=<MulBackward0>)\n",
      "Output Layer\n",
      "tensor([0.0689], grad_fn=<AddBackward0>)\n"
     ]
    },
    {
     "data": {
      "text/plain": [
       "tensor(0.0689, grad_fn=<SqueezeBackward0>)"
      ]
     },
     "execution_count": 50,
     "metadata": {},
     "output_type": "execute_result"
    }
   ],
   "source": [
    "model(torch.tensor(xtest[0]).float(), show=True)"
   ]
  },
  {
   "cell_type": "markdown",
   "id": "bd2b33eb",
   "metadata": {},
   "source": [
    "## Private Model using Homomorphic Encryption\n",
    "\n",
    "Model which uses HE operations for each layer. It has the same shape as the Plaintext Model so it can be initialised with the weights found in training. The encryption, matrix multiplications, addition and decryption are done using TenSEAL. This network is referred to as the *HE Model*."
   ]
  },
  {
   "cell_type": "code",
   "execution_count": 51,
   "id": "e1aea2f0",
   "metadata": {},
   "outputs": [],
   "source": [
    "# HE Model\n",
    "class HEModel:\n",
    "    def __init__(self, hidden_layer, output_layer):\n",
    "        self.hidden_layer_weight = hidden_layer.weight.t().tolist()\n",
    "        self.hidden_layer_bias = hidden_layer.bias.tolist()\n",
    "        self.output_layer_weight = output_layer.weight.t().tolist()\n",
    "        self.output_layer_bias = output_layer.bias.tolist()\n",
    "        \n",
    "    def forward(self, enc_x, show=False, plaintext=False):\n",
    "        self.show = show\n",
    "        self.plaintext = plaintext\n",
    "        self.debug_output('Input', enc_x)\n",
    "        enc_y = enc_x.mm(self.hidden_layer_weight) + self.hidden_layer_bias\n",
    "        self.debug_output('Hidden Layer', enc_y)\n",
    "        enc_y *= enc_y\n",
    "        self.debug_output('Activation', enc_y)\n",
    "        enc_y = enc_y.mm(self.output_layer_weight) + self.output_layer_bias\n",
    "        self.debug_output('Output Layer', enc_y)\n",
    "        return enc_y\n",
    "    \n",
    "    def debug_output(self, msg, vec):\n",
    "        if self.show:\n",
    "            print(msg)\n",
    "            if self.plaintext: vec = torch.tensor(vec.decrypt())\n",
    "            print(vec)\n",
    "    \n",
    "    def __call__(self, enc_x, show=False, plaintext=False):\n",
    "        return self.forward(enc_x, show, plaintext)"
   ]
  },
  {
   "cell_type": "markdown",
   "id": "bda19c9d",
   "metadata": {},
   "source": [
    "The CKKS HE scheme is used. This allows for operations to be done on full tensors at a time.\n",
    "\n",
    "More information on CKKS can be found in OpenMined's [CKKS Explained Series](https://blog.openmined.org/ckks-explained-part-1-simple-encoding-and-decoding/)."
   ]
  },
  {
   "cell_type": "code",
   "execution_count": 52,
   "id": "24bfcd8a",
   "metadata": {},
   "outputs": [],
   "source": [
    "# TenSEAL CKKS HE encryption scheme context setup\n",
    "bits_scale = 50\n",
    "coeff_mod_bit_sizes = [60, bits_scale, bits_scale, bits_scale, 60]\n",
    "polynomial_modulus_degree = 8192*2\n",
    "\n",
    "# Create context\n",
    "context = ts.context(ts.SCHEME_TYPE.CKKS, polynomial_modulus_degree, coeff_mod_bit_sizes=coeff_mod_bit_sizes)\n",
    "# Set global scale\n",
    "context.global_scale = 2**bits_scale\n",
    "# Generate galois keys required for matmul in ckks_vector\n",
    "context.generate_galois_keys()"
   ]
  },
  {
   "cell_type": "markdown",
   "id": "55d1933b",
   "metadata": {},
   "source": [
    "The HE Model is initialised with the weights acquired from the training of the Plaintext Model"
   ]
  },
  {
   "cell_type": "code",
   "execution_count": 53,
   "id": "63e63f65",
   "metadata": {},
   "outputs": [],
   "source": [
    "he_model = HEModel(model.hidden_layer, model.output_layer)"
   ]
  },
  {
   "cell_type": "markdown",
   "id": "a6ba4576",
   "metadata": {},
   "source": [
    "An example of one of the datapoints in the test set being encrypted and then passed through the HE Model is now shown. As the layers in the model use HE, each output is an encrypted CKKS vector."
   ]
  },
  {
   "cell_type": "code",
   "execution_count": 54,
   "id": "6c81fbe0",
   "metadata": {},
   "outputs": [
    {
     "name": "stdout",
     "output_type": "stream",
     "text": [
      "Input\n",
      "<tenseal.tensors.ckksvector.CKKSVector object at 0x7fdf96505460>\n",
      "Hidden Layer\n",
      "<tenseal.tensors.ckksvector.CKKSVector object at 0x7fdf963eb070>\n",
      "Activation\n",
      "<tenseal.tensors.ckksvector.CKKSVector object at 0x7fdf963eb070>\n",
      "Output Layer\n",
      "<tenseal.tensors.ckksvector.CKKSVector object at 0x7fdf963eb4c0>\n"
     ]
    },
    {
     "data": {
      "text/plain": [
       "<tenseal.tensors.ckksvector.CKKSVector at 0x7fdf963eb4c0>"
      ]
     },
     "execution_count": 54,
     "metadata": {},
     "output_type": "execute_result"
    }
   ],
   "source": [
    "# Example of encrypted test datapoint passing through the HE Model\n",
    "enc_input = ts.ckks_vector(context, xtest[0])\n",
    "he_model(enc_input, show=True)"
   ]
  },
  {
   "cell_type": "markdown",
   "id": "d5f6f7d8",
   "metadata": {},
   "source": [
    "For demonstration purposes, a decrypted version of this debug output is shown in order to sanity check that the data is passing through the HE Model the same way it passes through the Plaintext Model. When compared with the previously shown output of the Plaintext Model, it is confirmed that they are the same.\n",
    "\n",
    "In a production environment, the server running the network would not have the private key required to decrypt the data."
   ]
  },
  {
   "cell_type": "code",
   "execution_count": 55,
   "id": "cd13daf2",
   "metadata": {},
   "outputs": [
    {
     "name": "stdout",
     "output_type": "stream",
     "text": [
      "Input\n",
      "tensor([0.8063, 0.9154, 0.7630, 0.8138, 0.2895, 0.7808, 0.2420, 0.2744, 0.7771,\n",
      "        0.4744, 0.4887, 0.2982, 0.6565, 0.3652, 0.5412, 0.4426, 0.4509, 0.8028,\n",
      "        0.7513, 0.6244, 0.5711, 0.5543, 0.5255, 0.6787, 0.3339, 0.6132, 0.3737,\n",
      "        0.4165, 0.3197, 0.0016])\n",
      "Hidden Layer\n",
      "tensor([ 0.0109, -0.1169, -0.4723,  0.2357, -0.4076,  1.2123, -1.7473,  2.3959,\n",
      "         1.3642,  0.4212,  0.5750, -0.9817,  0.2174, -0.6541, -0.0254])\n",
      "Activation\n",
      "tensor([1.1795e-04, 1.3677e-02, 2.2303e-01, 5.5568e-02, 1.6614e-01, 1.4697e+00,\n",
      "        3.0529e+00, 5.7404e+00, 1.8610e+00, 1.7743e-01, 3.3061e-01, 9.6374e-01,\n",
      "        4.7243e-02, 4.2785e-01, 6.4343e-04])\n",
      "Output Layer\n",
      "tensor([0.0689])\n"
     ]
    },
    {
     "data": {
      "text/plain": [
       "<tenseal.tensors.ckksvector.CKKSVector at 0x7fdf1826ab80>"
      ]
     },
     "execution_count": 55,
     "metadata": {},
     "output_type": "execute_result"
    }
   ],
   "source": [
    "# Example of encrypted test datapoint passing through the HE Model, showing each stage decrypted\n",
    "he_model(enc_input, show=True, plaintext=True)"
   ]
  },
  {
   "cell_type": "markdown",
   "id": "cb4bc140",
   "metadata": {},
   "source": [
    "HE operations are much slower than standard plaintext operations. The time difference of an inference using the Plaintext Model and the HE Model are shown below."
   ]
  },
  {
   "cell_type": "code",
   "execution_count": 56,
   "id": "10f57b5d",
   "metadata": {},
   "outputs": [
    {
     "name": "stdout",
     "output_type": "stream",
     "text": [
      "CPU times: user 1.22 ms, sys: 7 µs, total: 1.22 ms\n",
      "Wall time: 779 µs\n",
      "CPU times: user 1.33 s, sys: 7.98 ms, total: 1.34 s\n",
      "Wall time: 251 ms\n"
     ]
    },
    {
     "data": {
      "text/plain": [
       "<tenseal.tensors.ckksvector.CKKSVector at 0x7fdf96505bb0>"
      ]
     },
     "execution_count": 56,
     "metadata": {},
     "output_type": "execute_result"
    }
   ],
   "source": [
    "# Time difference between Plaintext Model and HE Model\n",
    "%time model(torch.tensor(xtest[0]).float())\n",
    "%time he_model(enc_input)"
   ]
  },
  {
   "cell_type": "markdown",
   "id": "4938549d",
   "metadata": {},
   "source": [
    "## Evaluation\n",
    "\n",
    "To validate that our Plaintext Model and our HE Model output the same values, we will evaluate a small subset of our test set with each network. Evaluating the full test set with our HE Model would take a lot of time, so we can leave the evaluation of the full test set to the Plaintext Model."
   ]
  },
  {
   "cell_type": "code",
   "execution_count": 57,
   "id": "a754c01f",
   "metadata": {},
   "outputs": [],
   "source": [
    "from sklearn import metrics\n",
    "def evaluate_predictions(preds, truths, threshold=0.5):\n",
    "    print('AUPRC score: {}'.format(metrics.average_precision_score(truths, preds)))\n",
    "    print('AUROC score: {}'.format(metrics.roc_auc_score(truths, preds)))\n",
    "    preds[preds>=threshold] = 1.0\n",
    "    preds[preds<threshold] = 0.0\n",
    "    conf_matrix = metrics.confusion_matrix(truths, preds)\n",
    "    plt.figure(figsize=(5, 5))\n",
    "    labels = [\"Valid\", \"Fraud\"]\n",
    "    sns.heatmap(conf_matrix, xticklabels=labels, yticklabels=labels, annot=True, fmt=\"d\");\n",
    "    plt.title(\"Confusion matrix\")\n",
    "    plt.ylabel('True class')\n",
    "    plt.xlabel('Predicted class')\n",
    "    print('Accuracy score: {}'.format(metrics.accuracy_score(truths, preds)))\n",
    "    print(metrics.classification_report(truths, preds))"
   ]
  },
  {
   "cell_type": "code",
   "execution_count": 58,
   "id": "38e73a68",
   "metadata": {},
   "outputs": [],
   "source": [
    "# We'll take the indices of all the fraudulant transactions in the test set\n",
    "fraud_test_idxs = ytest==1\n",
    "# And combine them with an extra 100 transactions\n",
    "fraud_test_idxs[:100] = True"
   ]
  },
  {
   "cell_type": "markdown",
   "id": "ebc026c9",
   "metadata": {},
   "source": [
    "Evaluation of the sample with the Plaintext Model"
   ]
  },
  {
   "cell_type": "code",
   "execution_count": 59,
   "id": "f4e6be92",
   "metadata": {},
   "outputs": [
    {
     "name": "stdout",
     "output_type": "stream",
     "text": [
      "AUPRC score: 0.9590328213337858\n",
      "AUROC score: 0.9479787234042553\n",
      "Accuracy score: 0.8917525773195877\n",
      "              precision    recall  f1-score   support\n",
      "\n",
      "           0       0.84      0.98      0.90       100\n",
      "           1       0.97      0.80      0.88        94\n",
      "\n",
      "    accuracy                           0.89       194\n",
      "   macro avg       0.91      0.89      0.89       194\n",
      "weighted avg       0.90      0.89      0.89       194\n",
      "\n"
     ]
    },
    {
     "data": {
      "image/png": "[encoded data removed]",
      "text/plain": [
       "<Figure size 360x360 with 2 Axes>"
      ]
     },
     "metadata": {
      "needs_background": "light"
     },
     "output_type": "display_data"
    }
   ],
   "source": [
    "# Evaluate the sample with the Plaintext Model\n",
    "results_plain = []\n",
    "for x in xtest[fraud_test_idxs]:\n",
    "    results_plain.append(model(torch.tensor(x).float()).detach().numpy())\n",
    "results_plain = np.array(results_plain).squeeze()\n",
    "\n",
    "evaluate_predictions(results_plain, ytest[fraud_test_idxs])"
   ]
  },
  {
   "cell_type": "markdown",
   "id": "8d62cf93",
   "metadata": {},
   "source": [
    "The most important intuitive metric shown above is the *Confusion matrix* which shows in this case that all 100 valid transactions were successfully labelled as valid, and 79 of the 101 fraudulant transactions were successfully labelled as fraudulant.\n",
    "\n",
    "Next the sample is evaluated with the HE Model"
   ]
  },
  {
   "cell_type": "code",
   "execution_count": 60,
   "id": "f34bce5f",
   "metadata": {},
   "outputs": [
    {
     "name": "stdout",
     "output_type": "stream",
     "text": [
      "AUPRC score: 0.9590328213337856\n",
      "AUROC score: 0.9479787234042554\n",
      "Accuracy score: 0.8917525773195877\n",
      "              precision    recall  f1-score   support\n",
      "\n",
      "           0       0.84      0.98      0.90       100\n",
      "           1       0.97      0.80      0.88        94\n",
      "\n",
      "    accuracy                           0.89       194\n",
      "   macro avg       0.91      0.89      0.89       194\n",
      "weighted avg       0.90      0.89      0.89       194\n",
      "\n"
     ]
    },
    {
     "data": {
      "image/png": "[encoded data removed]",
      "text/plain": [
       "<Figure size 360x360 with 2 Axes>"
      ]
     },
     "metadata": {
      "needs_background": "light"
     },
     "output_type": "display_data"
    }
   ],
   "source": [
    "# Evaluation of the sample with the HE Model\n",
    "results_encrypted = []\n",
    "for x in xtest[fraud_test_idxs]:\n",
    "    enc_input = ts.ckks_vector(context, x)\n",
    "    enc_output = he_model(enc_input)\n",
    "    res = enc_output.decrypt()\n",
    "    results_encrypted.append(res)\n",
    "results_encrypted = np.array(results_encrypted).squeeze()\n",
    "\n",
    "evaluate_predictions(results_encrypted, ytest[fraud_test_idxs])"
   ]
  },
  {
   "cell_type": "markdown",
   "id": "5c2fe080",
   "metadata": {},
   "source": [
    "The same results are found. This demonstrates that the Plaintext Model and teh HE Model both output the same values.\n",
    "\n",
    "Finally, the full test set is evaluated using the Plaintext Model. This will demonstrate the performance of the weights used in both models."
   ]
  },
  {
   "cell_type": "code",
   "execution_count": 61,
   "id": "c32cbcc8",
   "metadata": {},
   "outputs": [
    {
     "name": "stdout",
     "output_type": "stream",
     "text": [
      "AUPRC score: 0.7165669893531825\n",
      "AUROC score: 0.9684993698527502\n",
      "Accuracy score: 0.9959973034465324\n",
      "              precision    recall  f1-score   support\n",
      "\n",
      "           0       1.00      1.00      1.00     71108\n",
      "           1       0.22      0.80      0.34        94\n",
      "\n",
      "    accuracy                           1.00     71202\n",
      "   macro avg       0.61      0.90      0.67     71202\n",
      "weighted avg       1.00      1.00      1.00     71202\n",
      "\n"
     ]
    },
    {
     "data": {
      "image/png": "[encoded data removed]",
      "text/plain": [
       "<Figure size 360x360 with 2 Axes>"
      ]
     },
     "metadata": {
      "needs_background": "light"
     },
     "output_type": "display_data"
    }
   ],
   "source": [
    "# Evaluation of the full test set with the Plaintext Model\n",
    "results_plain = []\n",
    "for x in xtest:\n",
    "    results_plain.append(model(torch.tensor(x).float()).detach().numpy())\n",
    "results_plain = np.array(results_plain).squeeze()\n",
    "\n",
    "evaluate_predictions(results_plain, ytest)"
   ]
  },
  {
   "cell_type": "markdown",
   "id": "2ffa9ed7",
   "metadata": {},
   "source": [
    "As shown, 56847 of the 56861 valid transactions are successfully labelled as valid, and 79 of the 101 fraudulant transactions are successfully labelled as fraudulant.\n",
    "\n",
    "Although these results are not perfect, it concludes the demonstration of how a model can be trained using PyTorch to identify fraudulant CC transactions and then converted into a model that can operate on encrypted inputs using HE."
   ]
  },
  {
   "cell_type": "markdown",
   "id": "f863f81c",
   "metadata": {},
   "source": [
    "Some functions for training and evaluation were adapted from this [Kaggle notebook](https://www.kaggle.com/rinabuoy/credit-card-fraud-detection-with-pytorch/notebook) on CC fraud detection.\n",
    "\n",
    "The HE network is adapted from this official [TenSEAL tutorial](https://github.com/OpenMined/courses/blob/foundations-of-private-computation/homomorphic-encryption/Evaluation%20on%20Encrypted%20Data%20using%20TenSEAL%20-%20Solution.ipynb)"
   ]
  }
 ],
 "metadata": {
  "kernelspec": {
   "display_name": "fyp2",
   "language": "python",
   "name": "fyp2"
  },
  "language_info": {
   "codemirror_mode": {
    "name": "ipython",
    "version": 3
   },
   "file_extension": ".py",
   "mimetype": "text/x-python",
   "name": "python",
   "nbconvert_exporter": "python",
   "pygments_lexer": "ipython3",
   "version": "3.8.10"
  }
 },
 "nbformat": 4,
 "nbformat_minor": 5
}
