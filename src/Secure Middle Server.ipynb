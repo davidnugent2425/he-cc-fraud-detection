{
 "cells": [
  {
   "cell_type": "markdown",
   "id": "020f72c0",
   "metadata": {},
   "source": [
    "# Secure Middle Server\n",
    "\n",
    "* ### Encrypt XGBoost models for encrypted inference\n",
    "* ### Send encryption-decryption keys to the client\n",
    "* ### Send encrypted model to the server"
   ]
  },
  {
   "cell_type": "code",
   "execution_count": 2,
   "id": "545b131d",
   "metadata": {},
   "outputs": [
    {
     "name": "stdout",
     "output_type": "stream",
     "text": [
      "\n",
      "Loading model for ulb dataset\n",
      "Encrypting model...\n",
      "Time taken to encrypt model: 0 mins, 31 seconds, 935 ms\n",
      "Saving encrypted model to ./server-files/encrypted-ulb-xgboost.pt\n",
      "Saving keys to ./client-files/encrypted-ulb-xgboost-keys.pt\n",
      "\n",
      "Loading model for ieee dataset\n",
      "Encrypting model...\n",
      "Time taken to encrypt model: 2 mins, 24 seconds, 810 ms\n",
      "Saving encrypted model to ./server-files/encrypted-ieee-xgboost.pt\n",
      "Saving keys to ./client-files/encrypted-ieee-xgboost-keys.pt\n"
     ]
    }
   ],
   "source": [
    "%run secure_server.py --cores=8"
   ]
  }
 ],
 "metadata": {
  "kernelspec": {
   "display_name": "fyp2",
   "language": "python",
   "name": "fyp2"
  },
  "language_info": {
   "codemirror_mode": {
    "name": "ipython",
    "version": 3
   },
   "file_extension": ".py",
   "mimetype": "text/x-python",
   "name": "python",
   "nbconvert_exporter": "python",
   "pygments_lexer": "ipython3",
   "version": "3.8.10"
  }
 },
 "nbformat": 4,
 "nbformat_minor": 5
}
