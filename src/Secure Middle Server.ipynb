{
 "cells": [
  {
   "cell_type": "markdown",
   "id": "020f72c0",
   "metadata": {},
   "source": [
    "# Secure Middle Server\n",
    "\n",
    "* ### Encrypt XGBoost models for encrypted inference\n",
    "* ### Send encryption-decryption keys to the client\n",
    "* ### Send encrypted model to the server"
   ]
  },
  {
   "cell_type": "code",
   "execution_count": 1,
   "id": "545b131d",
   "metadata": {},
   "outputs": [
    {
     "name": "stderr",
     "output_type": "stream",
     "text": [
      "/home/nugentd1@ad.mee.tcd.ie/nuggi/fyp/cc-he-poc/src/env/lib/python3.8/site-packages/tqdm/auto.py:22: TqdmWarning: IProgress not found. Please update jupyter and ipywidgets. See https://ipywidgets.readthedocs.io/en/stable/user_install.html\n",
      "  from .autonotebook import tqdm as notebook_tqdm\n"
     ]
    },
    {
     "name": "stdout",
     "output_type": "stream",
     "text": [
      "\n",
      "Loading model for ulb dataset\n",
      "Encrypting model...\n",
      "Time taken to encrypt model: 0 mins, 13 seconds, 461 ms\n",
      "Saving encrypted model to ./server-files/encrypted-ulb-xgboost.pt\n",
      "Saving keys to ./client-files/encrypted-ulb-xgboost-keys.pt\n",
      "\n",
      "Loading model for ieee dataset\n",
      "Encrypting model...\n",
      "Time taken to encrypt model: 1 mins, 58 seconds, 709 ms\n",
      "Saving encrypted model to ./server-files/encrypted-ieee-xgboost.pt\n",
      "Saving keys to ./client-files/encrypted-ieee-xgboost-keys.pt\n"
     ]
    }
   ],
   "source": [
    "%run secure_server.py --cores=8"
   ]
  }
 ],
 "metadata": {
  "kernelspec": {
   "display_name": "fyp2",
   "language": "python",
   "name": "fyp2"
  },
  "language_info": {
   "codemirror_mode": {
    "name": "ipython",
    "version": 3
   },
   "file_extension": ".py",
   "mimetype": "text/x-python",
   "name": "python",
   "nbconvert_exporter": "python",
   "pygments_lexer": "ipython3",
   "version": "3.8.10"
  }
 },
 "nbformat": 4,
 "nbformat_minor": 5
}
