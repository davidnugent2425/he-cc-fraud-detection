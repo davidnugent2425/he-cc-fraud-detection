{
 "cells": [
  {
   "cell_type": "code",
   "execution_count": 44,
   "id": "b82b146a",
   "metadata": {},
   "outputs": [],
   "source": [
    "import pickle\n",
    "import requests\n",
    "import tenseal as ts\n",
    "from train_utils import load_dataset, convert_to_binary\n",
    "from sklearn.model_selection import train_test_split\n",
    "import numpy as np\n",
    "from cc_he_utils import json_serialize, json_deserialize, load_test_data_np, load_test_data_df, setup_tenseal_context\n",
    "from ppxgboost import PPBooster\n",
    "from ppxgboost import PaillierAPI as paillier"
   ]
  },
  {
   "cell_type": "code",
   "execution_count": 12,
   "id": "dbdf65cd",
   "metadata": {},
   "outputs": [],
   "source": [
    "client_files_path = './client-files/'"
   ]
  },
  {
   "cell_type": "code",
   "execution_count": 6,
   "id": "c9a2b808",
   "metadata": {},
   "outputs": [],
   "source": [
    "dataset_name = 'ulb'"
   ]
  },
  {
   "cell_type": "code",
   "execution_count": 8,
   "id": "1b1de624",
   "metadata": {},
   "outputs": [
    {
     "name": "stdout",
     "output_type": "stream",
     "text": [
      "ulb dataset loaded ✅..\n"
     ]
    }
   ],
   "source": [
    "ulb_x, ulb_y = load_dataset(dataset_name)"
   ]
  },
  {
   "cell_type": "code",
   "execution_count": 9,
   "id": "9f0c328e",
   "metadata": {},
   "outputs": [],
   "source": [
    "_, ulb_xtest, _, ulb_ytest = train_test_split(ulb_x, ulb_y, test_size=0.2, shuffle=False)"
   ]
  },
  {
   "cell_type": "code",
   "execution_count": 2,
   "id": "3e7b6470",
   "metadata": {},
   "outputs": [],
   "source": [
    "# xtest_np, ytest_np = load_test_data_np()\n",
    "# xtest_df, ytest_df = load_test_data_df()"
   ]
  },
  {
   "cell_type": "code",
   "execution_count": 3,
   "id": "5e6fefd1",
   "metadata": {},
   "outputs": [],
   "source": [
    "# context = setup_tenseal_context()\n",
    "\n",
    "# def make_nn_query():\n",
    "#     enc_input = ts.ckks_vector(context, xtest_np[0])\n",
    "#     request_data = {\n",
    "#         'input': json_serialize(enc_input.serialize()),\n",
    "#         'context': json_serialize(context.serialize()),\n",
    "#     }\n",
    "#     response = requests.post('http://134.226.86.101:8000/nn', json=request_data, timeout=10).json()\n",
    "#     enc_x = ts.ckks_vector_from(context, json_deserialize(response['result']))\n",
    "#     return enc_x.decrypt()"
   ]
  },
  {
   "cell_type": "code",
   "execution_count": 52,
   "id": "0b63657e",
   "metadata": {},
   "outputs": [],
   "source": [
    "# prf_key = pickle.load(open('prf_key.pt', \"rb\"))\n",
    "# encrypter = pickle.load(open('encrypter.pt', \"rb\"))\n",
    "# min_max = pickle.load(open('min_max.pt', \"rb\"))\n",
    "# private_key = pickle.load(open('private_key.pt', \"rb\"))\n",
    "(column_hash_key, order_preserving_key, paillier_private_key, min_max) = pickle.load(open(client_files_path+'encrypted-ulb-xgboost-keys.pt', 'rb'))\n",
    "\n",
    "def make_xgboost_query(plaintext_input, expected_output):\n",
    "    encrypted_input = plaintext_input.copy()\n",
    "    ppbooster.enc_input_vector(column_hash_key, order_preserving_key, set(plaintext_input.columns), encrypted_input, PPBooster.MetaData(min_max))\n",
    "    request_data = {\n",
    "        'input': json_serialize(encrypted_input)\n",
    "    }\n",
    "    response = requests.post('http://134.226.86.101:8000/xgboost/ulb', json=request_data, timeout=10).json()\n",
    "    encrypted_result = json_deserialize(response['result'])\n",
    "    decrypted_result = np.array([paillier.decrypt(paillier_private_key, enc_res) for enc_res in encrypted_result])\n",
    "    is_expected = np.array_equal(convert_to_binary(decrypted_result), expected_output)\n",
    "    print(is_expected)\n",
    "#     return paillier.decrypt(paillier_private_key, encrypted_result)"
   ]
  },
  {
   "cell_type": "code",
   "execution_count": 53,
   "id": "749191c7",
   "metadata": {},
   "outputs": [],
   "source": [
    "# %time make_nn_query()"
   ]
  },
  {
   "cell_type": "code",
   "execution_count": 54,
   "id": "398c0447",
   "metadata": {},
   "outputs": [
    {
     "name": "stdout",
     "output_type": "stream",
     "text": [
      "True\n",
      "CPU times: user 346 ms, sys: 3.04 ms, total: 349 ms\n",
      "Wall time: 359 ms\n"
     ]
    }
   ],
   "source": [
    "%time make_xgboost_query(ulb_xtest.head(1), ulb_ytest.head(1))"
   ]
  },
  {
   "cell_type": "code",
   "execution_count": 64,
   "id": "1c2fd1d2",
   "metadata": {},
   "outputs": [
    {
     "data": {
      "text/plain": [
       "22230"
      ]
     },
     "execution_count": 64,
     "metadata": {},
     "output_type": "execute_result"
    }
   ],
   "source": [
    "np.random.randint(0, len(ulb_xtest))"
   ]
  },
  {
   "cell_type": "code",
   "execution_count": null,
   "id": "5ea9be3a",
   "metadata": {},
   "outputs": [],
   "source": []
  }
 ],
 "metadata": {
  "kernelspec": {
   "display_name": "fyp2",
   "language": "python",
   "name": "fyp2"
  },
  "language_info": {
   "codemirror_mode": {
    "name": "ipython",
    "version": 3
   },
   "file_extension": ".py",
   "mimetype": "text/x-python",
   "name": "python",
   "nbconvert_exporter": "python",
   "pygments_lexer": "ipython3",
   "version": "3.8.10"
  }
 },
 "nbformat": 4,
 "nbformat_minor": 5
}
