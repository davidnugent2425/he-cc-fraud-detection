{
 "cells": [
  {
   "cell_type": "code",
   "execution_count": 41,
   "id": "b82b146a",
   "metadata": {},
   "outputs": [],
   "source": [
    "import pickle\n",
    "import requests\n",
    "import tenseal as ts\n",
    "from cc_he_utils import json_serialize, json_deserialize, load_test_data"
   ]
  },
  {
   "cell_type": "code",
   "execution_count": 42,
   "id": "646cbd5d",
   "metadata": {},
   "outputs": [],
   "source": [
    "def setup_context():\n",
    "    # TenSEAL CKKS HE encryption scheme context setup\n",
    "    bits_scale = 50\n",
    "    coeff_mod_bit_sizes = [60, bits_scale, bits_scale, bits_scale, 60]\n",
    "    polynomial_modulus_degree = 8192*2\n",
    "\n",
    "    # Create context\n",
    "    context = ts.context(ts.SCHEME_TYPE.CKKS, polynomial_modulus_degree, coeff_mod_bit_sizes=coeff_mod_bit_sizes)\n",
    "    # Set global scale\n",
    "    context.global_scale = 2**bits_scale\n",
    "    # Generate galois keys required for matmul in ckks_vector\n",
    "    context.generate_galois_keys()\n",
    "    return context"
   ]
  },
  {
   "cell_type": "code",
   "execution_count": 43,
   "id": "749191c7",
   "metadata": {},
   "outputs": [],
   "source": [
    "xtest, ytest = load_test_data()\n",
    "context = setup_context()"
   ]
  },
  {
   "cell_type": "code",
   "execution_count": 48,
   "id": "0e171591",
   "metadata": {},
   "outputs": [
    {
     "name": "stdout",
     "output_type": "stream",
     "text": [
      "CPU times: user 18.6 ms, sys: 420 µs, total: 19 ms\n",
      "Wall time: 18.5 ms\n"
     ]
    }
   ],
   "source": [
    "%%time\n",
    "enc_input = ts.ckks_vector(context, xtest[0])"
   ]
  },
  {
   "cell_type": "code",
   "execution_count": 49,
   "id": "68834395",
   "metadata": {},
   "outputs": [
    {
     "name": "stdout",
     "output_type": "stream",
     "text": [
      "CPU times: user 582 ms, sys: 264 ms, total: 845 ms\n",
      "Wall time: 839 ms\n"
     ]
    }
   ],
   "source": [
    "%%time\n",
    "request_data = {\n",
    "    'input': json_serialize(enc_input.serialize()),\n",
    "    'context': json_serialize(context.serialize()),\n",
    "}"
   ]
  },
  {
   "cell_type": "code",
   "execution_count": 50,
   "id": "1f9d1209",
   "metadata": {},
   "outputs": [
    {
     "name": "stdout",
     "output_type": "stream",
     "text": [
      "CPU times: user 938 ms, sys: 210 ms, total: 1.15 s\n",
      "Wall time: 2.76 s\n"
     ]
    }
   ],
   "source": [
    "%%time\n",
    "response = requests.post('http://134.226.86.101:8000/nn', json=request_data, timeout=10).json()"
   ]
  },
  {
   "cell_type": "code",
   "execution_count": 51,
   "id": "55a37007",
   "metadata": {},
   "outputs": [
    {
     "name": "stdout",
     "output_type": "stream",
     "text": [
      "CPU times: user 963 µs, sys: 0 ns, total: 963 µs\n",
      "Wall time: 974 µs\n"
     ]
    }
   ],
   "source": [
    "%%time\n",
    "enc_x = ts.ckks_vector_from(context, json_deserialize(response['result']))"
   ]
  },
  {
   "cell_type": "code",
   "execution_count": 52,
   "id": "78ca02f0",
   "metadata": {},
   "outputs": [
    {
     "name": "stdout",
     "output_type": "stream",
     "text": [
      "CPU times: user 0 ns, sys: 6.32 ms, total: 6.32 ms\n",
      "Wall time: 5.59 ms\n"
     ]
    },
    {
     "data": {
      "text/plain": [
       "[-4.287199275793964]"
      ]
     },
     "execution_count": 52,
     "metadata": {},
     "output_type": "execute_result"
    }
   ],
   "source": [
    "%%time\n",
    "enc_x.decrypt()"
   ]
  }
 ],
 "metadata": {
  "kernelspec": {
   "display_name": "Python 3 (ipykernel)",
   "language": "python",
   "name": "python3"
  },
  "language_info": {
   "codemirror_mode": {
    "name": "ipython",
    "version": 3
   },
   "file_extension": ".py",
   "mimetype": "text/x-python",
   "name": "python",
   "nbconvert_exporter": "python",
   "pygments_lexer": "ipython3",
   "version": "3.8.10"
  }
 },
 "nbformat": 4,
 "nbformat_minor": 5
}
