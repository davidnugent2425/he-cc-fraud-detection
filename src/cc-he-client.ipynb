{
 "cells": [
  {
   "cell_type": "code",
   "execution_count": 1,
   "id": "b82b146a",
   "metadata": {},
   "outputs": [],
   "source": [
    "import pickle\n",
    "import requests\n",
    "import tenseal as ts\n",
    "from cc_he_utils import json_serialize, json_deserialize, load_test_data_np, load_test_data_df, setup_tenseal_context\n",
    "from ppxgboost import PPBooster as ppbooster\n",
    "from ppxgboost.PPBooster import MetaData\n",
    "from ppxgboost import PaillierAPI as paillier"
   ]
  },
  {
   "cell_type": "code",
   "execution_count": 2,
   "id": "3e7b6470",
   "metadata": {},
   "outputs": [],
   "source": [
    "xtest_np, ytest_np = load_test_data_np()\n",
    "xtest_df, ytest_df = load_test_data_df()"
   ]
  },
  {
   "cell_type": "code",
   "execution_count": 3,
   "id": "5e6fefd1",
   "metadata": {},
   "outputs": [],
   "source": [
    "context = setup_tenseal_context()\n",
    "\n",
    "def make_nn_query():\n",
    "    enc_input = ts.ckks_vector(context, xtest_np[0])\n",
    "    request_data = {\n",
    "        'input': json_serialize(enc_input.serialize()),\n",
    "        'context': json_serialize(context.serialize()),\n",
    "    }\n",
    "    response = requests.post('http://134.226.86.101:8000/nn', json=request_data, timeout=10).json()\n",
    "    enc_x = ts.ckks_vector_from(context, json_deserialize(response['result']))\n",
    "    return enc_x.decrypt()"
   ]
  },
  {
   "cell_type": "code",
   "execution_count": 14,
   "id": "0b63657e",
   "metadata": {},
   "outputs": [],
   "source": [
    "prf_key = pickle.load(open('prf_key.pt', \"rb\"))\n",
    "encrypter = pickle.load(open('encrypter.pt', \"rb\"))\n",
    "min_max = pickle.load(open('min_max.pt', \"rb\"))\n",
    "private_key = pickle.load(open('private_key.pt', \"rb\"))\n",
    "\n",
    "def make_xgboost_query():\n",
    "    enc_input = xtest_df.head(1).copy()\n",
    "    ppbooster.enc_input_vector(prf_key, encrypter, set(xtest_df.columns), enc_input, MetaData(min_max))\n",
    "    request_data = {\n",
    "        'input': json_serialize(enc_input)\n",
    "    }\n",
    "    response = requests.post('http://134.226.86.101:8000/xgboost', json=request_data, timeout=10).json()\n",
    "    encrypted_result = json_deserialize(response['result'])[0]\n",
    "    return paillier.decrypt(private_key, encrypted_result)"
   ]
  },
  {
   "cell_type": "code",
   "execution_count": 10,
   "id": "749191c7",
   "metadata": {},
   "outputs": [
    {
     "name": "stdout",
     "output_type": "stream",
     "text": [
      "CPU times: user 1.94 s, sys: 492 ms, total: 2.43 s\n",
      "Wall time: 4.02 s\n"
     ]
    },
    {
     "data": {
      "text/plain": [
       "[-0.3354605077784836]"
      ]
     },
     "execution_count": 10,
     "metadata": {},
     "output_type": "execute_result"
    }
   ],
   "source": [
    "%time make_nn_query()"
   ]
  },
  {
   "cell_type": "code",
   "execution_count": 15,
   "id": "398c0447",
   "metadata": {},
   "outputs": [
    {
     "name": "stdout",
     "output_type": "stream",
     "text": [
      "CPU times: user 196 ms, sys: 0 ns, total: 196 ms\n",
      "Wall time: 206 ms\n"
     ]
    },
    {
     "data": {
      "text/plain": [
       "-5.397705921856"
      ]
     },
     "execution_count": 15,
     "metadata": {},
     "output_type": "execute_result"
    }
   ],
   "source": [
    "%time make_xgboost_query()"
   ]
  }
 ],
 "metadata": {
  "kernelspec": {
   "display_name": "fyp2",
   "language": "python",
   "name": "fyp2"
  },
  "language_info": {
   "codemirror_mode": {
    "name": "ipython",
    "version": 3
   },
   "file_extension": ".py",
   "mimetype": "text/x-python",
   "name": "python",
   "nbconvert_exporter": "python",
   "pygments_lexer": "ipython3",
   "version": "3.8.10"
  }
 },
 "nbformat": 4,
 "nbformat_minor": 5
}
