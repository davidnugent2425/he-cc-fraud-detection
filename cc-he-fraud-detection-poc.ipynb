{
 "cells": [
  {
   "cell_type": "markdown",
   "id": "35c6dfba",
   "metadata": {},
   "source": [
    "# Credit Card Fraud Detection using Homomorphic Encryption Neural Network\n",
    "\n",
    "This notebook is a proof of concept of running a credit card (CC) fraud detection neural network on encrypted data. A plaintext neural network is first trained using [PyTorch](https://pytorch.org/), and then a private network uses these weights to perform homomorphic encryption (HE) operations with [TenSEAL](https://github.com/OpenMined/TenSEAL). Included in the aims were to keep computation costs down by using a low-layer neural network."
   ]
  },
  {
   "cell_type": "code",
   "execution_count": 132,
   "id": "ec7b5b2b",
   "metadata": {},
   "outputs": [],
   "source": [
    "# Imports\n",
    "import numpy as np\n",
    "import pandas as pd\n",
    "import matplotlib.pyplot as plt\n",
    "import seaborn as sns\n",
    "from sklearn.model_selection import train_test_split\n",
    "from sklearn.preprocessing import MinMaxScaler\n",
    "from collections import Counter\n",
    "import torch\n",
    "from sklearn import metrics\n",
    "import tenseal as ts"
   ]
  },
  {
   "cell_type": "markdown",
   "id": "b3c1e0e8",
   "metadata": {},
   "source": [
    "## Dataset\n",
    "\n",
    "The dataset used is the [Credit Card Fraud Detection](https://www.kaggle.com/mlg-ulb/creditcardfraud) dataset created by Machine Learning Group - ULB. It consists of 284,807 transactions, 492 of which are fraudulant. \n",
    "\n",
    "Each transaction has 30 pieces of information, and a Class of 0 for *valid* or 1 for *fraudulant*. All column names other than Time and Amount have been obfuscated for privacy. In our case, the dataset may not need to have obfuscated column names, as the network could potentially be trained on encrypted data."
   ]
  },
  {
   "cell_type": "code",
   "execution_count": 133,
   "id": "0b517ed7",
   "metadata": {},
   "outputs": [
    {
     "name": "stdout",
     "output_type": "stream",
     "text": [
      "   Time        V1        V2        V3        V4        V5        V6        V7  \\\n",
      "0   0.0 -1.359807 -0.072781  2.536347  1.378155 -0.338321  0.462388  0.239599   \n",
      "\n",
      "         V8        V9  ...       V21       V22       V23       V24       V25  \\\n",
      "0  0.098698  0.363787  ... -0.018307  0.277838 -0.110474  0.066928  0.128539   \n",
      "\n",
      "        V26       V27       V28  Amount  Class  \n",
      "0 -0.189115  0.133558 -0.021053  149.62      0  \n",
      "\n",
      "[1 rows x 31 columns]\n"
     ]
    }
   ],
   "source": [
    "# Show the first row of the dataset\n",
    "data = pd.read_csv('./data/creditcard.csv')\n",
    "print(data.head(1))"
   ]
  },
  {
   "cell_type": "markdown",
   "id": "08275263",
   "metadata": {},
   "source": [
    "The percentage of fraudulant transactions in the dataset is very low, which is something we may consider in the design of our network."
   ]
  },
  {
   "cell_type": "code",
   "execution_count": 134,
   "id": "e577c72c",
   "metadata": {},
   "outputs": [
    {
     "name": "stdout",
     "output_type": "stream",
     "text": [
      "Percentage of fraudulant transactions: 0.17%\n"
     ]
    },
    {
     "data": {
      "image/png": "[encoded data removed]",
      "text/plain": [
       "<Figure size 432x288 with 1 Axes>"
      ]
     },
     "metadata": {
      "needs_background": "light"
     },
     "output_type": "display_data"
    }
   ],
   "source": [
    "# The percentage of fraudulant transactions in the dataset is very low, which is something we may consider in the\n",
    "# design of our network.\n",
    "print('Percentage of fraudulant transactions: {:.2f}%'.format(pc_fraud*100))\n",
    "plt.hist(data['Class'], color='red')\n",
    "plt.xlabel('Class')\n",
    "plt.ylabel('Transaction')\n",
    "plt.title('Class Imbalance', fontsize=15)\n",
    "plt.show()\n",
    "pc_fraud = len(data.loc[data['Class'] == 1].values)/len(data.loc[data['Class'] == 0].values)"
   ]
  },
  {
   "cell_type": "markdown",
   "id": "63d06e05",
   "metadata": {},
   "source": [
    "The data is then preprocessed and split into a dataset for training the network and a dataset for testing it."
   ]
  },
  {
   "cell_type": "code",
   "execution_count": 88,
   "id": "172311e4",
   "metadata": {},
   "outputs": [
    {
     "name": "stdout",
     "output_type": "stream",
     "text": [
      "Distribution of each dataset:\n",
      "Train: Counter({0: 227454, 1: 391})\n",
      "Test: Counter({0: 56861, 1: 101})\n"
     ]
    }
   ],
   "source": [
    "# Preprocessing the data by scaling into a [0,1] range and splitting into inputs x and outputs y\n",
    "x = data.drop('Class', axis=1).values\n",
    "y = data['Class'].values\n",
    "scaler = MinMaxScaler()\n",
    "scaler.fit(x)\n",
    "x = scaler.transform(x)\n",
    "\n",
    "# Splitting the data into a dataset for training the network and a dataset for testing it\n",
    "xtrain, xtest, ytrain, ytest = train_test_split(x, y, test_size=0.2, random_state=0)\n",
    "\n",
    "print('Distribution of each dataset:')\n",
    "print('Train: %s' % Counter(ytrain))\n",
    "print('Test: %s' % Counter(ytest))"
   ]
  },
  {
   "cell_type": "code",
   "execution_count": 89,
   "id": "a586e9a4",
   "metadata": {},
   "outputs": [],
   "source": [
    "# Dataloaders setup, batch size of 100\n",
    "train_ds = torch.utils.data.TensorDataset(torch.tensor(xtrain).float(), torch.tensor(ytrain).float())\n",
    "test_ds = torch.utils.data.TensorDataset(torch.tensor(xtest).float(), torch.tensor(ytest).float())\n",
    "\n",
    "train_dl = torch.utils.data.DataLoader(train_ds, batch_size=100)\n",
    "test_dl = torch.utils.data.DataLoader(test_ds, batch_size=100)"
   ]
  },
  {
   "cell_type": "markdown",
   "id": "fb374438",
   "metadata": {},
   "source": [
    "## Plaintext PyTorch model for training\n",
    "\n",
    "A simple feedforward classifier neural network is trained on the training set using PyTorch, so that we can find the optimum weights to use in our HE Model. This is referred to as the *Plaintext Model*. Other options for neural networks include autoencoders. Out of all the low-layer networks found online trained on this dataset, a simple feedforward classifier seemed to perform best.\n",
    "\n",
    "**Network shape:**\n",
    "* input size is (1, 30)\n",
    "* hidden linear layer of size (30, 15)\n",
    "* output linear layer of size (15, 1)\n",
    "* output size is (1, 1)"
   ]
  },
  {
   "cell_type": "code",
   "execution_count": 135,
   "id": "7ceeeb53",
   "metadata": {},
   "outputs": [],
   "source": [
    "# Plaintext Model\n",
    "class Classifier(torch.nn.Module):\n",
    "    def __init__(self):\n",
    "        super().__init__()\n",
    "        self.hidden_layer = torch.nn.Linear(30, 15)\n",
    "        self.output_layer = torch.nn.Linear(15, 1)\n",
    "\n",
    "    def forward(self, x, show=False):\n",
    "        self.show = show\n",
    "        self.debug_output('Input', x)\n",
    "        y = self.hidden_layer(x)\n",
    "        self.debug_output('Hidden Layer', y)\n",
    "        y = y * y\n",
    "        self.debug_output('Activation', y)\n",
    "        y = self.output_layer(y)\n",
    "        self.debug_output('Output Layer', y)\n",
    "        return y.squeeze()\n",
    "    \n",
    "    def debug_output(self, msg, vec):\n",
    "        if self.show:\n",
    "            print(msg)\n",
    "            print(vec)"
   ]
  },
  {
   "cell_type": "code",
   "execution_count": 91,
   "id": "fdf8870f",
   "metadata": {},
   "outputs": [],
   "source": [
    "# Training functions\n",
    "def train(epochs, model, loss_func, opt, train_dl, valid_dl):\n",
    "    for epoch in range(epochs):\n",
    "        model.train()\n",
    "        for xb, yb in train_dl:\n",
    "            loss_batch(model, loss_func, xb, yb, opt)\n",
    "\n",
    "        model.eval()\n",
    "        with torch.no_grad():\n",
    "            losses, nums = zip(\n",
    "                *[loss_batch(model, loss_func, xb, yb) for xb, yb in valid_dl]\n",
    "            )\n",
    "        val_loss = np.sum(np.multiply(losses, nums)) / np.sum(nums)\n",
    "\n",
    "        print(epoch, val_loss)\n",
    "\n",
    "def loss_batch(model, loss_func, xb, yb, opt=None):\n",
    "    loss = loss_func(model(xb), yb)\n",
    "\n",
    "    if opt is not None:\n",
    "        loss.backward()\n",
    "        opt.step()\n",
    "        opt.zero_grad()\n",
    "\n",
    "    return loss.item(), len(xb)"
   ]
  },
  {
   "cell_type": "code",
   "execution_count": 93,
   "id": "b441e609",
   "metadata": {},
   "outputs": [],
   "source": [
    "# Plaintext Model\n",
    "model = Classifier()"
   ]
  },
  {
   "cell_type": "markdown",
   "id": "257f3bf5",
   "metadata": {},
   "source": [
    "The Plaintext Model is trained for 100 epochs on the training set. Once training has been completed once, saved model weights can be loaded."
   ]
  },
  {
   "cell_type": "code",
   "execution_count": 95,
   "id": "9e99d04a",
   "metadata": {},
   "outputs": [],
   "source": [
    "# Training (commented out once training is done and model weights are saved)\n",
    "# pos_weight = torch.tensor([5])\n",
    "# opt = torch.optim.SGD(model.parameters(), lr=0.001, momentum=0.9)\n",
    "# loss_func = torch.nn.BCEWithLogitsLoss(pos_weight=pos_weight)\n",
    "# n_epoch = 100\n",
    "\n",
    "# train(n_epoch,model,loss_func,opt,train_dl,valid_dl)\n",
    "# torch.save(model.hidden_layer, './data/fhe-compatible-model-hidden-layer.pt')\n",
    "# torch.save(model.output_layer, './data/fhe-compatible-model-output-layer.pt')"
   ]
  },
  {
   "cell_type": "code",
   "execution_count": 136,
   "id": "14630fc9",
   "metadata": {},
   "outputs": [],
   "source": [
    "model.hidden_layer = torch.load('./data/fhe-compatible-model-hidden-layer.pt')\n",
    "model.output_layer = torch.load('./data/fhe-compatible-model-output-layer.pt')"
   ]
  },
  {
   "cell_type": "markdown",
   "id": "41379bfb",
   "metadata": {},
   "source": [
    "An example of one of the datapoints in the test set passing through the Plaintext Model is now shown."
   ]
  },
  {
   "cell_type": "code",
   "execution_count": 100,
   "id": "85e0feb0",
   "metadata": {},
   "outputs": [
    {
     "name": "stdout",
     "output_type": "stream",
     "text": [
      "Input\n",
      "tensor([0.7282, 0.9528, 0.7784, 0.8366, 0.2250, 0.7742, 0.2621, 0.2724, 0.7841,\n",
      "        0.4568, 0.4747, 0.2188, 0.7118, 0.5370, 0.5855, 0.3178, 0.4474, 0.7557,\n",
      "        0.6794, 0.6295, 0.5823, 0.5581, 0.4898, 0.6615, 0.3759, 0.5898, 0.4268,\n",
      "        0.4185, 0.3164, 0.0016])\n",
      "Hidden Layer\n",
      "tensor([ 1.1345,  1.5043, -2.1212, -0.0782,  0.1497,  0.5256, -2.6513, -0.0276,\n",
      "         0.1480, -0.1862,  0.1435, -2.8860,  0.2541,  1.1515, -1.1065],\n",
      "       grad_fn=<AddBackward0>)\n",
      "Activation\n",
      "tensor([1.2872e+00, 2.2629e+00, 4.4997e+00, 6.1219e-03, 2.2415e-02, 2.7621e-01,\n",
      "        7.0296e+00, 7.6110e-04, 2.1890e-02, 3.4684e-02, 2.0595e-02, 8.3291e+00,\n",
      "        6.4586e-02, 1.3260e+00, 1.2243e+00], grad_fn=<MulBackward0>)\n",
      "Output Layer\n",
      "tensor([-7.2862], grad_fn=<AddBackward0>)\n"
     ]
    },
    {
     "data": {
      "text/plain": [
       "tensor(-7.2862, grad_fn=<SqueezeBackward0>)"
      ]
     },
     "execution_count": 100,
     "metadata": {},
     "output_type": "execute_result"
    }
   ],
   "source": [
    "model(torch.tensor(xtest[0]).float(), show=True)"
   ]
  },
  {
   "cell_type": "markdown",
   "id": "bd2b33eb",
   "metadata": {},
   "source": [
    "## Private Model using Homomorphic Encryption\n",
    "\n",
    "Model which uses HE operations for each layer. It has the same shape as the Plaintext Model so it can be initialised with the weights found in training. The encryption, matrix multiplications, addition and decryption are done using TenSEAL. This network is referred to as the *HE Model*."
   ]
  },
  {
   "cell_type": "code",
   "execution_count": 101,
   "id": "e1aea2f0",
   "metadata": {},
   "outputs": [],
   "source": [
    "# HE Model\n",
    "class HEModel:\n",
    "    def __init__(self, hidden_layer, output_layer):\n",
    "        self.hidden_layer_weight = hidden_layer.weight.t().tolist()\n",
    "        self.hidden_layer_bias = hidden_layer.bias.tolist()\n",
    "        self.output_layer_weight = output_layer.weight.t().tolist()\n",
    "        self.output_layer_bias = output_layer.bias.tolist()\n",
    "        \n",
    "    def forward(self, enc_x, show=False, plaintext=False):\n",
    "        self.show = show\n",
    "        self.plaintext = plaintext\n",
    "        self.debug_output('Input', enc_x)\n",
    "        enc_y = enc_x.mm(self.hidden_layer_weight) + self.hidden_layer_bias\n",
    "        self.debug_output('Hidden Layer', enc_y)\n",
    "        enc_y *= enc_y\n",
    "        self.debug_output('Activation', enc_y)\n",
    "        enc_y = enc_y.mm(self.output_layer_weight) + self.output_layer_bias\n",
    "        self.debug_output('Output Layer', enc_y)\n",
    "        return enc_y\n",
    "    \n",
    "    def debug_output(self, msg, vec):\n",
    "        if self.show:\n",
    "            print(msg)\n",
    "            if self.plaintext: vec = torch.tensor(vec.decrypt())\n",
    "            print(vec)\n",
    "    \n",
    "    def __call__(self, enc_x, show=False, plaintext=False):\n",
    "        return self.forward(enc_x, show, plaintext)"
   ]
  },
  {
   "cell_type": "markdown",
   "id": "bda19c9d",
   "metadata": {},
   "source": [
    "The CKKS HE scheme is used. This allows for operations to be done on full tensors at a time.\n",
    "\n",
    "More information on CKKS can be found in OpenMined's [CKKS Explained Series](https://blog.openmined.org/ckks-explained-part-1-simple-encoding-and-decoding/)."
   ]
  },
  {
   "cell_type": "code",
   "execution_count": 137,
   "id": "24bfcd8a",
   "metadata": {},
   "outputs": [],
   "source": [
    "# TenSEAL CKKS HE encryption scheme context setup\n",
    "bits_scale = 40\n",
    "coeff_mod_bit_sizes = [60, bits_scale, bits_scale, bits_scale, 60]\n",
    "polynomial_modulus_degree = 8192*2\n",
    "\n",
    "# Create context\n",
    "context = ts.context(ts.SCHEME_TYPE.CKKS, polynomial_modulus_degree, coeff_mod_bit_sizes=coeff_mod_bit_sizes)\n",
    "# Set global scale\n",
    "context.global_scale = 2**bits_scale\n",
    "# Generate galois keys required for matmul in ckks_vector\n",
    "context.generate_galois_keys()"
   ]
  },
  {
   "cell_type": "markdown",
   "id": "55d1933b",
   "metadata": {},
   "source": [
    "The HE Model is initialised with the weights acquired from the training of the Plaintext Model"
   ]
  },
  {
   "cell_type": "code",
   "execution_count": 103,
   "id": "63e63f65",
   "metadata": {},
   "outputs": [],
   "source": [
    "he_model = HEModel(model.hidden_layer, model.output_layer)"
   ]
  },
  {
   "cell_type": "markdown",
   "id": "a6ba4576",
   "metadata": {},
   "source": [
    "An example of one of the datapoints in the test set being encrypted and then passed through the HE Model is now shown. As the layers in the model use HE, each output is an encrypted CKKS vector."
   ]
  },
  {
   "cell_type": "code",
   "execution_count": 104,
   "id": "6c81fbe0",
   "metadata": {},
   "outputs": [
    {
     "name": "stdout",
     "output_type": "stream",
     "text": [
      "Input\n",
      "<tenseal.tensors.ckksvector.CKKSVector object at 0x41d1775370>\n",
      "Hidden Layer\n",
      "<tenseal.tensors.ckksvector.CKKSVector object at 0x41c210cb80>\n",
      "Activation\n",
      "<tenseal.tensors.ckksvector.CKKSVector object at 0x41c210cb80>\n",
      "Output Layer\n",
      "<tenseal.tensors.ckksvector.CKKSVector object at 0x41ab3d8d90>\n"
     ]
    },
    {
     "data": {
      "text/plain": [
       "<tenseal.tensors.ckksvector.CKKSVector at 0x41ab3d8d90>"
      ]
     },
     "execution_count": 104,
     "metadata": {},
     "output_type": "execute_result"
    }
   ],
   "source": [
    "# Example of encrypted test datapoint passing through the HE Model\n",
    "enc_input = ts.ckks_vector(context, xtest[0])\n",
    "he_model(enc_input, show=True)"
   ]
  },
  {
   "cell_type": "markdown",
   "id": "d5f6f7d8",
   "metadata": {},
   "source": [
    "For demonstration purposes, a decrypted version of this debug output is shown in order to sanity check that the data is passing through the HE Model the same way it passes through the Plaintext Model. When compared with the previously shown output of the Plaintext Model, it is confirmed that they are the same.\n",
    "\n",
    "In a production environment, the server running the network would not have the private key required to decrypt the data."
   ]
  },
  {
   "cell_type": "code",
   "execution_count": 105,
   "id": "cd13daf2",
   "metadata": {},
   "outputs": [
    {
     "name": "stdout",
     "output_type": "stream",
     "text": [
      "Input\n",
      "tensor([0.7282, 0.9528, 0.7784, 0.8366, 0.2250, 0.7742, 0.2621, 0.2724, 0.7841,\n",
      "        0.4568, 0.4747, 0.2188, 0.7118, 0.5370, 0.5855, 0.3178, 0.4474, 0.7557,\n",
      "        0.6794, 0.6295, 0.5823, 0.5581, 0.4898, 0.6615, 0.3759, 0.5898, 0.4268,\n",
      "        0.4185, 0.3164, 0.0016])\n",
      "Hidden Layer\n",
      "tensor([ 1.1345,  1.5043, -2.1212, -0.0782,  0.1497,  0.5256, -2.6513, -0.0276,\n",
      "         0.1480, -0.1862,  0.1435, -2.8860,  0.2541,  1.1515, -1.1065])\n",
      "Activation\n",
      "tensor([1.2872e+00, 2.2629e+00, 4.4997e+00, 6.1220e-03, 2.2415e-02, 2.7621e-01,\n",
      "        7.0296e+00, 7.6110e-04, 2.1890e-02, 3.4685e-02, 2.0595e-02, 8.3292e+00,\n",
      "        6.4586e-02, 1.3261e+00, 1.2243e+00])\n",
      "Output Layer\n",
      "tensor([-7.2863])\n"
     ]
    },
    {
     "data": {
      "text/plain": [
       "<tenseal.tensors.ckksvector.CKKSVector at 0x41e0e720a0>"
      ]
     },
     "execution_count": 105,
     "metadata": {},
     "output_type": "execute_result"
    }
   ],
   "source": [
    "# Example of encrypted test datapoint passing through the HE Model, showing each stage decrypted\n",
    "he_model(enc_input, show=True, plaintext=True)"
   ]
  },
  {
   "cell_type": "markdown",
   "id": "cb4bc140",
   "metadata": {},
   "source": [
    "HE operations are much slower than standard plaintext operations. The time difference of an inference using the Plaintext Model and the HE Model are shown below."
   ]
  },
  {
   "cell_type": "code",
   "execution_count": 109,
   "id": "10f57b5d",
   "metadata": {},
   "outputs": [
    {
     "name": "stdout",
     "output_type": "stream",
     "text": [
      "CPU times: user 5.25 ms, sys: 2 ms, total: 7.25 ms\n",
      "Wall time: 3.73 ms\n",
      "CPU times: user 8.77 s, sys: 9.26 ms, total: 8.78 s\n",
      "Wall time: 1.51 s\n"
     ]
    },
    {
     "data": {
      "text/plain": [
       "<tenseal.tensors.ckksvector.CKKSVector at 0x41c21a87c0>"
      ]
     },
     "execution_count": 109,
     "metadata": {},
     "output_type": "execute_result"
    }
   ],
   "source": [
    "# Time difference between Plaintext Model and HE Model\n",
    "%time model(torch.tensor(xtest[0]).float())\n",
    "%time he_model(enc_input)"
   ]
  },
  {
   "cell_type": "markdown",
   "id": "4938549d",
   "metadata": {},
   "source": [
    "## Evaluation\n",
    "\n",
    "To validate that our Plaintext Model and our HE Model output the same values, we will evaluate a small subset of our test set with each network. Evaluating the full test set with our HE Model would take a lot of time, so we can leave the evaluation of the full test set to the Plaintext Model."
   ]
  },
  {
   "cell_type": "code",
   "execution_count": 144,
   "id": "a754c01f",
   "metadata": {},
   "outputs": [],
   "source": [
    "def evaluate_predictions(preds, truths):\n",
    "    preds[preds>=0.5] = 1.0\n",
    "    preds[preds<0.5] = 0.0\n",
    "    conf_matrix = metrics.confusion_matrix(truths, preds)\n",
    "    plt.figure(figsize=(5, 5))\n",
    "    labels = [\"Valid\", \"Fraud\"]\n",
    "    sns.heatmap(conf_matrix, xticklabels=labels, yticklabels=labels, annot=True, fmt=\"d\");\n",
    "    plt.title(\"Confusion matrix\")\n",
    "    plt.ylabel('True class')\n",
    "    plt.xlabel('Predicted class')\n",
    "    print('AUPRC score: {}'.format(metrics.average_precision_score(truths, preds)))\n",
    "    print('AUROC score: {}'.format(metrics.roc_auc_score(truths, preds)))\n",
    "    print('Accuracy score: {}'.format(metrics.accuracy_score(truths, preds)))\n",
    "    print(metrics.classification_report(truths, preds))"
   ]
  },
  {
   "cell_type": "code",
   "execution_count": 139,
   "id": "38e73a68",
   "metadata": {},
   "outputs": [],
   "source": [
    "# We'll take the indices of all the fraudulant transactions in the test set\n",
    "fraud_test_idxs = ytest==1\n",
    "# And combine them with an extra 100 transactions\n",
    "fraud_test_idxs[:100] = True"
   ]
  },
  {
   "cell_type": "markdown",
   "id": "ebc026c9",
   "metadata": {},
   "source": [
    "Evaluation of the sample with the Plaintext Model"
   ]
  },
  {
   "cell_type": "code",
   "execution_count": 145,
   "id": "f4e6be92",
   "metadata": {},
   "outputs": [
    {
     "name": "stdout",
     "output_type": "stream",
     "text": [
      "AUPRC score: 0.8916309541401901\n",
      "AUROC score: 0.8910891089108911\n",
      "Accuracy score: 0.8905472636815921\n",
      "              precision    recall  f1-score   support\n",
      "\n",
      "           0       0.82      1.00      0.90       100\n",
      "           1       1.00      0.78      0.88       101\n",
      "\n",
      "    accuracy                           0.89       201\n",
      "   macro avg       0.91      0.89      0.89       201\n",
      "weighted avg       0.91      0.89      0.89       201\n",
      "\n"
     ]
    },
    {
     "data": {
      "image/png": "[encoded data removed]",
      "text/plain": [
       "<Figure size 360x360 with 2 Axes>"
      ]
     },
     "metadata": {
      "needs_background": "light"
     },
     "output_type": "display_data"
    }
   ],
   "source": [
    "# Evaluate the sample with the Plaintext Model\n",
    "results_plain = []\n",
    "for x in xtest[fraud_test_idxs]:\n",
    "    results_plain.append(model(torch.tensor(x).float()).detach().numpy())\n",
    "results_plain = np.array(results_plain).squeeze()\n",
    "\n",
    "evaluate_predictions(results_plain, ytest[fraud_test_idxs])"
   ]
  },
  {
   "cell_type": "markdown",
   "id": "8d62cf93",
   "metadata": {},
   "source": [
    "The most important intuitive metric shown above is the *Confusion matrix* which shows in this case that all 100 valid transactions were successfully labelled as valid, and 79 of the 101 fraudulant transactions were successfully labelled as fraudulant.\n",
    "\n",
    "Next the sample is evaluated with the HE Model"
   ]
  },
  {
   "cell_type": "code",
   "execution_count": 146,
   "id": "f34bce5f",
   "metadata": {},
   "outputs": [
    {
     "name": "stdout",
     "output_type": "stream",
     "text": [
      "AUPRC score: 0.8916309541401901\n",
      "AUROC score: 0.8910891089108911\n",
      "Accuracy score: 0.8905472636815921\n",
      "              precision    recall  f1-score   support\n",
      "\n",
      "           0       0.82      1.00      0.90       100\n",
      "           1       1.00      0.78      0.88       101\n",
      "\n",
      "    accuracy                           0.89       201\n",
      "   macro avg       0.91      0.89      0.89       201\n",
      "weighted avg       0.91      0.89      0.89       201\n",
      "\n"
     ]
    },
    {
     "data": {
      "image/png": "[encoded data removed]",
      "text/plain": [
       "<Figure size 360x360 with 2 Axes>"
      ]
     },
     "metadata": {
      "needs_background": "light"
     },
     "output_type": "display_data"
    }
   ],
   "source": [
    "# Evaluation of the sample with the HE Model\n",
    "results_encrypted = []\n",
    "for x in xtest[fraud_test_idxs]:\n",
    "    enc_input = ts.ckks_vector(context, x)\n",
    "    enc_output = he_model(enc_input)\n",
    "    res = enc_output.decrypt()\n",
    "    results_encrypted.append(res)\n",
    "results_encrypted = np.array(results_encrypted).squeeze()\n",
    "\n",
    "evaluate_predictions(results_encrypted, ytest[fraud_test_idxs])"
   ]
  },
  {
   "cell_type": "markdown",
   "id": "5c2fe080",
   "metadata": {},
   "source": [
    "The same results are found. This demonstrates that the Plaintext Model and teh HE Model both output the same values.\n",
    "\n",
    "Finally, the full test set is evaluated using the Plaintext Model. This will demonstrate the performance of the weights used in both models."
   ]
  },
  {
   "cell_type": "code",
   "execution_count": 147,
   "id": "c32cbcc8",
   "metadata": {},
   "outputs": [
    {
     "name": "stdout",
     "output_type": "stream",
     "text": [
      "AUPRC score: 0.6648171816188314\n",
      "AUROC score: 0.8909660016844969\n",
      "Accuracy score: 0.9993679997191109\n",
      "              precision    recall  f1-score   support\n",
      "\n",
      "           0       1.00      1.00      1.00     56861\n",
      "           1       0.85      0.78      0.81       101\n",
      "\n",
      "    accuracy                           1.00     56962\n",
      "   macro avg       0.92      0.89      0.91     56962\n",
      "weighted avg       1.00      1.00      1.00     56962\n",
      "\n"
     ]
    },
    {
     "data": {
      "image/png": "[encoded data removed]",
      "text/plain": [
       "<Figure size 360x360 with 2 Axes>"
      ]
     },
     "metadata": {
      "needs_background": "light"
     },
     "output_type": "display_data"
    }
   ],
   "source": [
    "# Evaluation of the full test set with the Plaintext Model\n",
    "results_plain = []\n",
    "for x in xtest:\n",
    "    results_plain.append(model(torch.tensor(x).float()).detach().numpy())\n",
    "results_plain = np.array(results_plain).squeeze()\n",
    "\n",
    "evaluate_predictions(results_plain, ytest)"
   ]
  },
  {
   "cell_type": "markdown",
   "id": "2ffa9ed7",
   "metadata": {},
   "source": [
    "As shown, 56847 of the 56861 valid transactions are successfully labelled as valid, and 79 of the 101 fraudulant transactions are successfully labelled as fraudulant.\n",
    "\n",
    "Although these results are not perfect, it concludes the demonstration of how a model can be trained using PyTorch to identify fraudulant CC transactions and then converted into a model that can operate on encrypted inputs using HE."
   ]
  },
  {
   "cell_type": "markdown",
   "id": "f863f81c",
   "metadata": {},
   "source": [
    "Some functions for training and evaluation were adapted from this [Kaggle notebook](https://www.kaggle.com/rinabuoy/credit-card-fraud-detection-with-pytorch/notebook) on CC fraud detection.\n",
    "\n",
    "The HE network is adapted from this official [TenSEAL tutorial](https://github.com/OpenMined/courses/blob/foundations-of-private-computation/homomorphic-encryption/Evaluation%20on%20Encrypted%20Data%20using%20TenSEAL%20-%20Solution.ipynb)"
   ]
  }
 ],
 "metadata": {
  "kernelspec": {
   "display_name": "Python 3 (ipykernel)",
   "language": "python",
   "name": "python3"
  },
  "language_info": {
   "codemirror_mode": {
    "name": "ipython",
    "version": 3
   },
   "file_extension": ".py",
   "mimetype": "text/x-python",
   "name": "python",
   "nbconvert_exporter": "python",
   "pygments_lexer": "ipython3",
   "version": "3.8.10"
  }
 },
 "nbformat": 4,
 "nbformat_minor": 5
}
